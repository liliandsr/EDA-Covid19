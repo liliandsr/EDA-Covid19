{
 "cells": [
  {
   "cell_type": "markdown",
   "metadata": {
    "id": "E4MVb2hGqUun"
   },
   "source": [
    "# **Assigment 1**"
   ]
  },
  {
   "cell_type": "markdown",
   "metadata": {
    "id": "jcdEvSYn2o81"
   },
   "source": [
    "*Nombre:* Lilian Daniela Suárez Riveros"
   ]
  },
  {
   "cell_type": "markdown",
   "metadata": {
    "id": "YI4owjJaWkpC"
   },
   "source": [
    "Importación de librerias necesarias para realizar el assigment 1."
   ]
  },
  {
   "cell_type": "code",
   "execution_count": 1,
   "metadata": {
    "executionInfo": {
     "elapsed": 190,
     "status": "ok",
     "timestamp": 1643749359196,
     "user": {
      "displayName": "Lilian Suárez",
      "photoUrl": "https://lh3.googleusercontent.com/a-/AOh14GhmJwa8s4iz-3TR_0hi6Rb0mkeSHxQ3MHbHYcrDWw=s64",
      "userId": "13345180962142135796"
     },
     "user_tz": 300
    },
    "id": "BfW6d7hYQ4EX"
   },
   "outputs": [],
   "source": [
    "import pandas as pd\n",
    "import matplotlib.pyplot as plt \n",
    "import numpy as np"
   ]
  },
  {
   "cell_type": "markdown",
   "metadata": {
    "id": "Zoq21zPkqxUn"
   },
   "source": [
    "**1.** Cargar en Jupyter el archivo suministrado: *covid_global.csv*."
   ]
  },
  {
   "cell_type": "markdown",
   "metadata": {
    "id": "NVQj2f-wRq_J"
   },
   "source": [
    "Lectura del archivo con librería *pandas*. El archivo original se organizó en dos hojas de Excel. En una se agrupo por país y status, luego se hizó un merge para anexarle el continente. En la otra se encuentran los países con la población para el 2020, 2021 y 2022.\n",
    "Cabe aclarar que se eliminaron los elementos de la variable Country Diamond Princess, MS Zaandam y Summer Olympics 2020, ya que no corresponden a países. Adicionalmente, se eliminó la latitud y longitud, ya que no serán utilizadas para el presente trabajo.\n",
    "\n",
    "Las páginas de donde se extrajo los datos extra que se requerian son:\n",
    "*   [Continentes](https://ajuntament.barcelona.cat/estadistica/castella/Estadistiques_per_temes/Poblacio_i_demografia/Documents_relacionats/pobest/a2016/part1/nt112.htm)\n",
    "*   [Población por país](https://databank.worldbank.org/source/population-estimates-and-projections)\n",
    "\n"
   ]
  },
  {
   "cell_type": "code",
   "execution_count": 2,
   "metadata": {
    "colab": {
     "base_uri": "https://localhost:8080/",
     "height": 487
    },
    "executionInfo": {
     "elapsed": 1208,
     "status": "error",
     "timestamp": 1643749465820,
     "user": {
      "displayName": "Lilian Suárez",
      "photoUrl": "https://lh3.googleusercontent.com/a-/AOh14GhmJwa8s4iz-3TR_0hi6Rb0mkeSHxQ3MHbHYcrDWw=s64",
      "userId": "13345180962142135796"
     },
     "user_tz": 300
    },
    "id": "yVlVBHLAmV3Q",
    "outputId": "2e71c834-8c50-441d-993a-41e98ec1fbc1"
   },
   "outputs": [
    {
     "name": "stdout",
     "output_type": "stream",
     "text": [
      "       Country status Continent  01/22/20  01/23/20  01/24/20  01/25/20  \\\n",
      "0  Afghanistan      D    Asia           0         0         0         0   \n",
      "1  Afghanistan      R    Asia           0         0         0         0   \n",
      "2      Albania      D  Europa           0         0         0         0   \n",
      "3      Albania      R  Europa           0         0         0         0   \n",
      "4      Algeria      D  Africa           0         0         0         0   \n",
      "\n",
      "   01/26/20  01/27/20  01/28/20  ...  01/09/22  01/10/22  01/11/22  01/12/22  \\\n",
      "0         0         0         0  ...      7373      7373      7374      7376   \n",
      "1         0         0         0  ...         0         0         0         0   \n",
      "2         0         0         0  ...      3240      3241      3247      3253   \n",
      "3         0         0         0  ...         0         0         0         0   \n",
      "4         0         0         0  ...      6339      6349      6363      6372   \n",
      "\n",
      "   01/13/22  01/14/22  01/15/22  01/16/22  01/17/22  01/18/22  \n",
      "0      7376      7376      7378      7379      7381      7383  \n",
      "1         0         0         0         0         0         0  \n",
      "2      3255      3262      3265      3269      3271      3277  \n",
      "3         0         0         0         0         0         0  \n",
      "4      6383      6393      6404      6412      6423      6435  \n",
      "\n",
      "[5 rows x 731 columns]\n"
     ]
    }
   ],
   "source": [
    "covid19 = pd.read_excel('C:/Users/Lilian/Downloads/covid19.xlsx',sheet_name = 'covid')\n",
    "print(covid19.head())"
   ]
  },
  {
   "cell_type": "code",
   "execution_count": 3,
   "metadata": {
    "id": "pfUjS6vUeEta"
   },
   "outputs": [],
   "source": [
    "population = pd.read_excel('C:/Users/Lilian/Downloads/covid19.xlsx',sheet_name = 'population')"
   ]
  },
  {
   "cell_type": "markdown",
   "metadata": {
    "id": "NohHzTXhR5s-"
   },
   "source": [
    "Dimensión del dataset leído."
   ]
  },
  {
   "cell_type": "code",
   "execution_count": 4,
   "metadata": {
    "colab": {
     "base_uri": "https://localhost:8080/"
    },
    "executionInfo": {
     "elapsed": 31,
     "status": "ok",
     "timestamp": 1643509877631,
     "user": {
      "displayName": "Lilian Suárez",
      "photoUrl": "https://lh3.googleusercontent.com/a-/AOh14GhmJwa8s4iz-3TR_0hi6Rb0mkeSHxQ3MHbHYcrDWw=s64",
      "userId": "13345180962142135796"
     },
     "user_tz": 300
    },
    "id": "9ZShddtaU3I5",
    "outputId": "fc48be32-8f24-4c46-9e0d-7fca8b720b46"
   },
   "outputs": [
    {
     "data": {
      "text/plain": [
       "(386, 731)"
      ]
     },
     "execution_count": 4,
     "metadata": {},
     "output_type": "execute_result"
    }
   ],
   "source": [
    "covid19.shape"
   ]
  },
  {
   "cell_type": "code",
   "execution_count": 5,
   "metadata": {
    "colab": {
     "base_uri": "https://localhost:8080/"
    },
    "executionInfo": {
     "elapsed": 29,
     "status": "ok",
     "timestamp": 1643509877632,
     "user": {
      "displayName": "Lilian Suárez",
      "photoUrl": "https://lh3.googleusercontent.com/a-/AOh14GhmJwa8s4iz-3TR_0hi6Rb0mkeSHxQ3MHbHYcrDWw=s64",
      "userId": "13345180962142135796"
     },
     "user_tz": 300
    },
    "id": "Bkd8jTkseKD_",
    "outputId": "80e3e43a-ff62-4f65-d258-fb2741edc459"
   },
   "outputs": [
    {
     "data": {
      "text/plain": [
       "(193, 4)"
      ]
     },
     "execution_count": 5,
     "metadata": {},
     "output_type": "execute_result"
    }
   ],
   "source": [
    "population.shape"
   ]
  },
  {
   "cell_type": "markdown",
   "metadata": {
    "id": "RBqTn4xHrJpJ"
   },
   "source": [
    "\n",
    "**2.** Calcular y mostrar la cantidad de pacientes recuperados y muertos en cada continente."
   ]
  },
  {
   "cell_type": "markdown",
   "metadata": {
    "id": "YPMn-pHlYMSj"
   },
   "source": [
    "Agrupación y suma de *covid19* por continent y status para la obtención de la cantidad de pacientes recuperados y muertos en cada continente. La categoría R es Recovered y D es Dead."
   ]
  },
  {
   "cell_type": "code",
   "execution_count": 6,
   "metadata": {
    "colab": {
     "base_uri": "https://localhost:8080/"
    },
    "executionInfo": {
     "elapsed": 19,
     "status": "ok",
     "timestamp": 1643509877633,
     "user": {
      "displayName": "Lilian Suárez",
      "photoUrl": "https://lh3.googleusercontent.com/a-/AOh14GhmJwa8s4iz-3TR_0hi6Rb0mkeSHxQ3MHbHYcrDWw=s64",
      "userId": "13345180962142135796"
     },
     "user_tz": 300
    },
    "id": "3K4bizYJk8Gm",
    "outputId": "20aa074d-4c2a-4769-b6b3-0ea81373a95f"
   },
   "outputs": [
    {
     "data": {
      "text/plain": [
       "Continent  status\n",
       "Africa     D           69600722\n",
       "           R         1147554906\n",
       "America    D          833606708\n",
       "           R         7551718633\n",
       "Asia       D          349263528\n",
       "           R         9352273761\n",
       "Europa     D          486659245\n",
       "           R         5427113757\n",
       "Oceania    D             814199\n",
       "           R           11650490\n",
       "dtype: int64"
      ]
     },
     "execution_count": 6,
     "metadata": {},
     "output_type": "execute_result"
    }
   ],
   "source": [
    "covid19.groupby(['Continent','status']).sum().sum(axis=1)"
   ]
  },
  {
   "cell_type": "markdown",
   "metadata": {
    "id": "1BZl2CPQohhY"
   },
   "source": [
    "\n",
    "**3.** Indicar el país con el mayor crecimiento en la cantidad de recuperados y muertos durante el año 2022."
   ]
  },
  {
   "cell_type": "markdown",
   "metadata": {
    "id": "YfqfS2p2SJzr"
   },
   "source": [
    "Filtro de la tabla covid19 con las fechas únicamente del 2022 para recuperados (*recovered_22*) y muertos (*dead_22*)."
   ]
  },
  {
   "cell_type": "code",
   "execution_count": 7,
   "metadata": {
    "id": "Z0HSEDCopnSW"
   },
   "outputs": [],
   "source": [
    "columns = covid19.columns[covid19.columns.str.endswith('22')].union(pd.Index(['Country','status']))"
   ]
  },
  {
   "cell_type": "code",
   "execution_count": 8,
   "metadata": {
    "colab": {
     "base_uri": "https://localhost:8080/"
    },
    "executionInfo": {
     "elapsed": 273,
     "status": "ok",
     "timestamp": 1643509877899,
     "user": {
      "displayName": "Lilian Suárez",
      "photoUrl": "https://lh3.googleusercontent.com/a-/AOh14GhmJwa8s4iz-3TR_0hi6Rb0mkeSHxQ3MHbHYcrDWw=s64",
      "userId": "13345180962142135796"
     },
     "user_tz": 300
    },
    "id": "lP2TiuxKKqc2",
    "outputId": "61fc9d6e-f9f6-42c3-906d-5cd88918d880"
   },
   "outputs": [
    {
     "data": {
      "text/plain": [
       "(386, 20)"
      ]
     },
     "execution_count": 8,
     "metadata": {},
     "output_type": "execute_result"
    }
   ],
   "source": [
    "covid19_22 = covid19[columns]\n",
    "covid19_22.shape"
   ]
  },
  {
   "cell_type": "code",
   "execution_count": 9,
   "metadata": {
    "colab": {
     "base_uri": "https://localhost:8080/"
    },
    "executionInfo": {
     "elapsed": 25,
     "status": "ok",
     "timestamp": 1643509877900,
     "user": {
      "displayName": "Lilian Suárez",
      "photoUrl": "https://lh3.googleusercontent.com/a-/AOh14GhmJwa8s4iz-3TR_0hi6Rb0mkeSHxQ3MHbHYcrDWw=s64",
      "userId": "13345180962142135796"
     },
     "user_tz": 300
    },
    "id": "iLarYqxFP4_j",
    "outputId": "098e8380-efdc-4ce6-c33b-ae6fda6be59f"
   },
   "outputs": [
    {
     "data": {
      "text/plain": [
       "(193, 19)"
      ]
     },
     "execution_count": 9,
     "metadata": {},
     "output_type": "execute_result"
    }
   ],
   "source": [
    "recovered_22 = covid19_22[covid19_22.status =='R'].drop(columns = ['status'])\n",
    "recovered_22.shape"
   ]
  },
  {
   "cell_type": "code",
   "execution_count": 10,
   "metadata": {
    "colab": {
     "base_uri": "https://localhost:8080/"
    },
    "executionInfo": {
     "elapsed": 14,
     "status": "ok",
     "timestamp": 1643509877901,
     "user": {
      "displayName": "Lilian Suárez",
      "photoUrl": "https://lh3.googleusercontent.com/a-/AOh14GhmJwa8s4iz-3TR_0hi6Rb0mkeSHxQ3MHbHYcrDWw=s64",
      "userId": "13345180962142135796"
     },
     "user_tz": 300
    },
    "id": "342zU-xsQlLt",
    "outputId": "c25f4cd4-318a-4fb8-cffa-5fd377236c07"
   },
   "outputs": [
    {
     "data": {
      "text/plain": [
       "(193, 19)"
      ]
     },
     "execution_count": 10,
     "metadata": {},
     "output_type": "execute_result"
    }
   ],
   "source": [
    "dead_22 = covid19_22[covid19_22.status =='D'].drop(columns = ['status'])\n",
    "dead_22.shape"
   ]
  },
  {
   "cell_type": "markdown",
   "metadata": {
    "id": "HkGBwACVs8he"
   },
   "source": [
    "Para calcular el crecimiento de cada país en recuperados o fallecidos por COVID19, se creó una matriz que indique la variación diaría que se presentó. Luego, se obtuvo el promedio entre las variaciones diarias para por país.\n",
    "Para tener una aproximación del crecimiento diario teniendo en cuenta que cada país tiene una población distinta, se obtuvo cuántas personas se infectaron aproximadamente diariamente por país. \n",
    "Finalmente, para conocer cuál país tuvo el mayor crecimiento se ordeno las cantidades de mayor a menor.\n",
    "A continuación, se realizan las operaciones mencionadas anteriormente."
   ]
  },
  {
   "cell_type": "markdown",
   "metadata": {
    "id": "zFa0NSlITg-X"
   },
   "source": [
    "**País con mayor crecimiento de recuperados**"
   ]
  },
  {
   "cell_type": "markdown",
   "metadata": {
    "id": "f3HjXcYpaekS"
   },
   "source": [
    "Obtención de variación diaria de recuperados para el año 2022."
   ]
  },
  {
   "cell_type": "code",
   "execution_count": 11,
   "metadata": {
    "id": "tq56Y1Vd18Rs"
   },
   "outputs": [],
   "source": [
    "increaseR = pd.DataFrame(columns=range(18),\n",
    "                  index=range(193))\n",
    "for i in range(193):\n",
    "  for j in range(17):\n",
    "    if recovered_22.iloc[i,j] == 0 & recovered_22.iloc[i,j+1] == 0:\n",
    "      increaseR.iloc[i,j] = 0\n",
    "    elif recovered_22.iloc[i,j+1] != 0:\n",
    "      increaseR.iloc[i,j] = (recovered_22.iloc[i,j+1]-recovered_22.iloc[i,j])/recovered_22.iloc[i,j+1]\n",
    "    elif recovered_22.iloc[i,j] != 0:\n",
    "      increaseR.iloc[i,j] = (recovered_22.iloc[i,j+1]-recovered_22.iloc[i,j])/recovered_22.iloc[i,j]\n",
    "    increaseR.iloc[i,17] = recovered_22.Country.iloc[i]"
   ]
  },
  {
   "cell_type": "code",
   "execution_count": 12,
   "metadata": {
    "colab": {
     "base_uri": "https://localhost:8080/"
    },
    "executionInfo": {
     "elapsed": 26,
     "status": "ok",
     "timestamp": 1643509880698,
     "user": {
      "displayName": "Lilian Suárez",
      "photoUrl": "https://lh3.googleusercontent.com/a-/AOh14GhmJwa8s4iz-3TR_0hi6Rb0mkeSHxQ3MHbHYcrDWw=s64",
      "userId": "13345180962142135796"
     },
     "user_tz": 300
    },
    "id": "gbPE3sYtvfxa",
    "outputId": "e0fad7a6-490d-47c1-a162-f7711aab4fdf"
   },
   "outputs": [
    {
     "data": {
      "text/plain": [
       "(193, 18)"
      ]
     },
     "execution_count": 12,
     "metadata": {},
     "output_type": "execute_result"
    }
   ],
   "source": [
    "increaseR.shape"
   ]
  },
  {
   "cell_type": "markdown",
   "metadata": {
    "id": "8YL548oXiFGa"
   },
   "source": [
    "Cálculo del promedio de variaciones diarias por país."
   ]
  },
  {
   "cell_type": "code",
   "execution_count": 13,
   "metadata": {
    "colab": {
     "base_uri": "https://localhost:8080/"
    },
    "executionInfo": {
     "elapsed": 23,
     "status": "ok",
     "timestamp": 1643509880699,
     "user": {
      "displayName": "Lilian Suárez",
      "photoUrl": "https://lh3.googleusercontent.com/a-/AOh14GhmJwa8s4iz-3TR_0hi6Rb0mkeSHxQ3MHbHYcrDWw=s64",
      "userId": "13345180962142135796"
     },
     "user_tz": 300
    },
    "id": "RUlFW1Nsu65D",
    "outputId": "9159fb4c-b086-43af-9447-0d354ca4fc2e"
   },
   "outputs": [
    {
     "data": {
      "text/plain": [
       "(193, 2)"
      ]
     },
     "execution_count": 13,
     "metadata": {},
     "output_type": "execute_result"
    }
   ],
   "source": [
    "increase_countryR22 = pd.DataFrame(columns=range(2),\n",
    "                  index=range(193))\n",
    "for i in range(193):\n",
    "  increase_countryR22.iloc[i][1] = increaseR.loc[i][:17].mean()\n",
    "  increase_countryR22.iloc[i][0] = increaseR.iloc[i][17]\n",
    "\n",
    "increase_countryR22.columns = ['Country','Promedio_variacion_diario']\n",
    "increase_countryR22.shape"
   ]
  },
  {
   "cell_type": "markdown",
   "metadata": {
    "id": "9F2uoBXDiOIN"
   },
   "source": [
    "Producto de pobación y promedio de varaciones diarias por país para conocer cuántos contagiados aproximadamente hubo cada día."
   ]
  },
  {
   "cell_type": "code",
   "execution_count": 14,
   "metadata": {
    "id": "3Z0ALITS4y5D"
   },
   "outputs": [],
   "source": [
    "increase_countryR22 = increase_countryR22.merge(population,how = 'left').drop(columns = ['P2020','P2021'])\n",
    "Contagios = increase_countryR22.Promedio_variacion_diario*increase_countryR22.P2022\n",
    "increase_countryR22 = pd.concat([increase_countryR22, Contagios],axis = 1)\n",
    "increase_countryR22.columns = ['Country','Promedio_variacion_diario','P2022','Contagios']"
   ]
  },
  {
   "cell_type": "markdown",
   "metadata": {
    "id": "5-dMcWEmir9Q"
   },
   "source": [
    "Ordenar de mayor a menor."
   ]
  },
  {
   "cell_type": "code",
   "execution_count": 15,
   "metadata": {
    "colab": {
     "base_uri": "https://localhost:8080/",
     "height": 221
    },
    "executionInfo": {
     "elapsed": 12,
     "status": "ok",
     "timestamp": 1643509880700,
     "user": {
      "displayName": "Lilian Suárez",
      "photoUrl": "https://lh3.googleusercontent.com/a-/AOh14GhmJwa8s4iz-3TR_0hi6Rb0mkeSHxQ3MHbHYcrDWw=s64",
      "userId": "13345180962142135796"
     },
     "user_tz": 300
    },
    "id": "WPFC48gEmtgW",
    "outputId": "6f35757f-4447-45c6-e8e6-11fbe6bdd575"
   },
   "outputs": [
    {
     "data": {
      "text/html": [
       "<div>\n",
       "<style scoped>\n",
       "    .dataframe tbody tr th:only-of-type {\n",
       "        vertical-align: middle;\n",
       "    }\n",
       "\n",
       "    .dataframe tbody tr th {\n",
       "        vertical-align: top;\n",
       "    }\n",
       "\n",
       "    .dataframe thead th {\n",
       "        text-align: right;\n",
       "    }\n",
       "</style>\n",
       "<table border=\"1\" class=\"dataframe\">\n",
       "  <thead>\n",
       "    <tr style=\"text-align: right;\">\n",
       "      <th></th>\n",
       "      <th>Country</th>\n",
       "      <th>Promedio_variacion_diario</th>\n",
       "      <th>P2022</th>\n",
       "      <th>Contagios</th>\n",
       "    </tr>\n",
       "  </thead>\n",
       "  <tbody>\n",
       "    <tr>\n",
       "      <th>0</th>\n",
       "      <td>Afghanistan</td>\n",
       "      <td>0.0</td>\n",
       "      <td>40754000</td>\n",
       "      <td>0.0</td>\n",
       "    </tr>\n",
       "    <tr>\n",
       "      <th>97</th>\n",
       "      <td>Lebanon</td>\n",
       "      <td>0.0</td>\n",
       "      <td>6685000</td>\n",
       "      <td>0.0</td>\n",
       "    </tr>\n",
       "    <tr>\n",
       "      <th>123</th>\n",
       "      <td>Netherlands</td>\n",
       "      <td>0.0</td>\n",
       "      <td>17512000</td>\n",
       "      <td>0.0</td>\n",
       "    </tr>\n",
       "    <tr>\n",
       "      <th>124</th>\n",
       "      <td>New Zealand</td>\n",
       "      <td>0.0</td>\n",
       "      <td>5160000</td>\n",
       "      <td>0.0</td>\n",
       "    </tr>\n",
       "    <tr>\n",
       "      <th>125</th>\n",
       "      <td>Nicaragua</td>\n",
       "      <td>0.0</td>\n",
       "      <td>6779000</td>\n",
       "      <td>0.0</td>\n",
       "    </tr>\n",
       "  </tbody>\n",
       "</table>\n",
       "</div>"
      ],
      "text/plain": [
       "         Country Promedio_variacion_diario     P2022 Contagios\n",
       "0    Afghanistan                       0.0  40754000       0.0\n",
       "97       Lebanon                       0.0   6685000       0.0\n",
       "123  Netherlands                       0.0  17512000       0.0\n",
       "124  New Zealand                       0.0   5160000       0.0\n",
       "125    Nicaragua                       0.0   6779000       0.0"
      ]
     },
     "execution_count": 15,
     "metadata": {},
     "output_type": "execute_result"
    }
   ],
   "source": [
    "increase_countryR22.sort_values('Contagios',ascending=False).head(5)"
   ]
  },
  {
   "cell_type": "markdown",
   "metadata": {
    "id": "WpsB1f8cUQPC"
   },
   "source": [
    "**País con mayor crecimiento de fallecidos**"
   ]
  },
  {
   "cell_type": "markdown",
   "metadata": {
    "id": "xHbi1PcasG3F"
   },
   "source": [
    "Obtención de variación diaria de fallecidos para el año 2022."
   ]
  },
  {
   "cell_type": "code",
   "execution_count": 16,
   "metadata": {
    "id": "g1Wi8uRVFINa"
   },
   "outputs": [],
   "source": [
    "increaseD = pd.DataFrame(columns=range(18),\n",
    "                  index=range(193))\n",
    "for i in range(193):\n",
    "  for j in range(17):\n",
    "    if dead_22.iloc[i,j] == 0 & dead_22.iloc[i,j+1] == 0:\n",
    "      increaseD.iloc[i,j] = 0\n",
    "    elif dead_22.iloc[i,j+1] != 0:\n",
    "      increaseD.iloc[i,j] = (dead_22.iloc[i,j+1]-dead_22.iloc[i,j])/dead_22.iloc[i,j+1]\n",
    "    elif dead_22.iloc[i,j] != 0:\n",
    "      increaseD.iloc[i,j] = (dead_22.iloc[i,j+1]-dead_22.iloc[i,j])/dead_22.iloc[i,j]\n",
    "    increaseD.iloc[i,17] = dead_22.Country.iloc[i]"
   ]
  },
  {
   "cell_type": "markdown",
   "metadata": {
    "id": "JgHupvxrj8S9"
   },
   "source": [
    "Cálculo del promedio de variaciones diarias por país."
   ]
  },
  {
   "cell_type": "code",
   "execution_count": 17,
   "metadata": {
    "colab": {
     "base_uri": "https://localhost:8080/"
    },
    "executionInfo": {
     "elapsed": 1019,
     "status": "ok",
     "timestamp": 1643509886041,
     "user": {
      "displayName": "Lilian Suárez",
      "photoUrl": "https://lh3.googleusercontent.com/a-/AOh14GhmJwa8s4iz-3TR_0hi6Rb0mkeSHxQ3MHbHYcrDWw=s64",
      "userId": "13345180962142135796"
     },
     "user_tz": 300
    },
    "id": "92vUPjgS8ZAM",
    "outputId": "abe3f4fc-46e8-4c2b-906d-10f2fd98af9c"
   },
   "outputs": [
    {
     "data": {
      "text/plain": [
       "(193, 2)"
      ]
     },
     "execution_count": 17,
     "metadata": {},
     "output_type": "execute_result"
    }
   ],
   "source": [
    "increase_countryD22 = pd.DataFrame(columns=range(2),\n",
    "                  index=range(193))\n",
    "for i in range(193):\n",
    "  increase_countryD22.iloc[i][1] = increaseD.loc[i][:17].mean()\n",
    "  increase_countryD22.iloc[i][0] = increaseD.iloc[i][17]\n",
    "\n",
    "increase_countryD22.columns = ['Country','Promedio_variacion_diario']\n",
    "increase_countryD22.shape"
   ]
  },
  {
   "cell_type": "markdown",
   "metadata": {
    "id": "6-WYPG2qkFXK"
   },
   "source": [
    "Producto de casos de contagio (R+D) y promedio de varaciones diarias por país para conocer cuántos contagios en hubo cada día."
   ]
  },
  {
   "cell_type": "code",
   "execution_count": 18,
   "metadata": {
    "id": "UuN7U34RsUFc"
   },
   "outputs": [],
   "source": [
    "increase_countryD22 = increase_countryD22.merge(population,how = 'left').drop(columns = ['P2020','P2021'])\n",
    "Contagios = increase_countryD22.Promedio_variacion_diario*increase_countryD22.P2022\n",
    "increase_countryD22 = pd.concat([increase_countryD22, Contagios],axis = 1)\n",
    "increase_countryD22.columns = ['Country','Promedio_variacion_diario','P2022','Contagios']"
   ]
  },
  {
   "cell_type": "markdown",
   "metadata": {
    "id": "c3aKAx0DmLUN"
   },
   "source": [
    "Ordenar de mayor a menor el data frame *increase_countryD22*."
   ]
  },
  {
   "cell_type": "code",
   "execution_count": 19,
   "metadata": {
    "colab": {
     "base_uri": "https://localhost:8080/",
     "height": 221
    },
    "executionInfo": {
     "elapsed": 21,
     "status": "ok",
     "timestamp": 1643509886043,
     "user": {
      "displayName": "Lilian Suárez",
      "photoUrl": "https://lh3.googleusercontent.com/a-/AOh14GhmJwa8s4iz-3TR_0hi6Rb0mkeSHxQ3MHbHYcrDWw=s64",
      "userId": "13345180962142135796"
     },
     "user_tz": 300
    },
    "id": "h2TpY1uOjwX1",
    "outputId": "3ec4c82d-4e7b-4611-ddcf-9fcc137f1011"
   },
   "outputs": [
    {
     "data": {
      "text/html": [
       "<div>\n",
       "<style scoped>\n",
       "    .dataframe tbody tr th:only-of-type {\n",
       "        vertical-align: middle;\n",
       "    }\n",
       "\n",
       "    .dataframe tbody tr th {\n",
       "        vertical-align: top;\n",
       "    }\n",
       "\n",
       "    .dataframe thead th {\n",
       "        text-align: right;\n",
       "    }\n",
       "</style>\n",
       "<table border=\"1\" class=\"dataframe\">\n",
       "  <thead>\n",
       "    <tr style=\"text-align: right;\">\n",
       "      <th></th>\n",
       "      <th>Country</th>\n",
       "      <th>Promedio_variacion_diario</th>\n",
       "      <th>P2022</th>\n",
       "      <th>Contagios</th>\n",
       "    </tr>\n",
       "  </thead>\n",
       "  <tbody>\n",
       "    <tr>\n",
       "      <th>78</th>\n",
       "      <td>India</td>\n",
       "      <td>0.000659</td>\n",
       "      <td>1406632000</td>\n",
       "      <td>927291.339818</td>\n",
       "    </tr>\n",
       "    <tr>\n",
       "      <th>179</th>\n",
       "      <td>US</td>\n",
       "      <td>0.001868</td>\n",
       "      <td>333207000</td>\n",
       "      <td>622453.056842</td>\n",
       "    </tr>\n",
       "    <tr>\n",
       "      <th>188</th>\n",
       "      <td>Vietnam</td>\n",
       "      <td>0.005753</td>\n",
       "      <td>98954000</td>\n",
       "      <td>569298.763017</td>\n",
       "    </tr>\n",
       "    <tr>\n",
       "      <th>91</th>\n",
       "      <td>Korea, South</td>\n",
       "      <td>0.007323</td>\n",
       "      <td>51788000</td>\n",
       "      <td>379218.053063</td>\n",
       "    </tr>\n",
       "    <tr>\n",
       "      <th>8</th>\n",
       "      <td>Australia</td>\n",
       "      <td>0.013454</td>\n",
       "      <td>26241000</td>\n",
       "      <td>353058.649719</td>\n",
       "    </tr>\n",
       "  </tbody>\n",
       "</table>\n",
       "</div>"
      ],
      "text/plain": [
       "          Country Promedio_variacion_diario       P2022      Contagios\n",
       "78          India                  0.000659  1406632000  927291.339818\n",
       "179            US                  0.001868   333207000  622453.056842\n",
       "188       Vietnam                  0.005753    98954000  569298.763017\n",
       "91   Korea, South                  0.007323    51788000  379218.053063\n",
       "8       Australia                  0.013454    26241000  353058.649719"
      ]
     },
     "execution_count": 19,
     "metadata": {},
     "output_type": "execute_result"
    }
   ],
   "source": [
    "increase_countryD22.sort_values('Contagios',ascending=False).head(5)"
   ]
  },
  {
   "cell_type": "markdown",
   "metadata": {
    "id": "Me_IQL8smM5o"
   },
   "source": [
    "**Respuesta:** En los 20 días del 2022 aún no se han recuperados, por lo que no se podría establecer el mayor crecimiento de recuperados. Sin embargo, si hay reporte de fallecidos, por lo que el país con mayor crecimiento de fallecidos es India."
   ]
  },
  {
   "cell_type": "markdown",
   "metadata": {
    "id": "NbAGMLjl5ZHh"
   },
   "source": [
    "**4.**Indicar el país con el menor crecimiento en la cantidad de recuperados y muertos durante el año 2021."
   ]
  },
  {
   "cell_type": "markdown",
   "metadata": {
    "id": "XQuV9bYmUw11"
   },
   "source": [
    "Filtro de la tabla covid19 con las fechas únicamente del 2021 para recuperados (*recovered_21*) y muertos (*dead_21*)."
   ]
  },
  {
   "cell_type": "code",
   "execution_count": 20,
   "metadata": {
    "id": "IODNG1Ee5s2T"
   },
   "outputs": [],
   "source": [
    "columns = covid19.columns[covid19.columns.str.endswith('21')].union(pd.Index(['Country','status']))\n",
    "covid19_21 = covid19[columns]"
   ]
  },
  {
   "cell_type": "code",
   "execution_count": 21,
   "metadata": {
    "colab": {
     "base_uri": "https://localhost:8080/"
    },
    "executionInfo": {
     "elapsed": 20,
     "status": "ok",
     "timestamp": 1643509886044,
     "user": {
      "displayName": "Lilian Suárez",
      "photoUrl": "https://lh3.googleusercontent.com/a-/AOh14GhmJwa8s4iz-3TR_0hi6Rb0mkeSHxQ3MHbHYcrDWw=s64",
      "userId": "13345180962142135796"
     },
     "user_tz": 300
    },
    "id": "Wnz62Tf66G7d",
    "outputId": "edb777e1-b047-43e4-dda5-461401535fa8"
   },
   "outputs": [
    {
     "data": {
      "text/plain": [
       "(193, 366)"
      ]
     },
     "execution_count": 21,
     "metadata": {},
     "output_type": "execute_result"
    }
   ],
   "source": [
    "recovered_21 = covid19_21[covid19_21.status =='R'].drop(columns = ['status'])\n",
    "recovered_21.shape"
   ]
  },
  {
   "cell_type": "code",
   "execution_count": 22,
   "metadata": {
    "colab": {
     "base_uri": "https://localhost:8080/"
    },
    "executionInfo": {
     "elapsed": 249,
     "status": "ok",
     "timestamp": 1643509886287,
     "user": {
      "displayName": "Lilian Suárez",
      "photoUrl": "https://lh3.googleusercontent.com/a-/AOh14GhmJwa8s4iz-3TR_0hi6Rb0mkeSHxQ3MHbHYcrDWw=s64",
      "userId": "13345180962142135796"
     },
     "user_tz": 300
    },
    "id": "Om83cD446Squ",
    "outputId": "07fc9447-c146-41db-e918-2ae1b3b2664f"
   },
   "outputs": [
    {
     "data": {
      "text/plain": [
       "(193, 366)"
      ]
     },
     "execution_count": 22,
     "metadata": {},
     "output_type": "execute_result"
    }
   ],
   "source": [
    "dead_21 = covid19_21[covid19_21.status =='D'].drop(columns = ['status'])\n",
    "dead_21.shape"
   ]
  },
  {
   "cell_type": "markdown",
   "metadata": {
    "id": "56Pb2Aknyw_9"
   },
   "source": [
    "Para calcular el crecimiento de cada país en recuperados o fallecidos por COVID19, se creó una matriz que indique la variación diaría que se presentó. Luego, se obtuvo el promedio entre las variaciones diarias para por país.\n",
    "Para tener una aproximación del crecimiento diario teniendo en cuenta que cada país tiene una población distinta, se obtuvo cuántas personas se infectaron aproximadamente diariamente por país. \n",
    "Finalmente, para conocer cuál país tuvo el mayor crecimiento se ordeno las cantidades de mayor a menor.\n",
    "A continuación, se realizan las operaciones mencionadas anteriormente."
   ]
  },
  {
   "cell_type": "markdown",
   "metadata": {
    "id": "i5_JnT-34gnK"
   },
   "source": [
    "**País con menor crecimiento de recuperados**"
   ]
  },
  {
   "cell_type": "markdown",
   "metadata": {
    "id": "FG6wOzQnkcpR"
   },
   "source": [
    "Obtención de variación diaria de recuperdos para el año 2021."
   ]
  },
  {
   "cell_type": "code",
   "execution_count": 23,
   "metadata": {
    "id": "YbET6utv9_lg"
   },
   "outputs": [],
   "source": [
    "decrementR = pd.DataFrame(columns=range(364),\n",
    "                  index=range(193))\n",
    "for i in range(193):\n",
    "  for j in range(363):\n",
    "    if recovered_21.iloc[i,j] == 0 & recovered_21.iloc[i,j+1] == 0:\n",
    "      decrementR.iloc[i,j] = 0\n",
    "    elif recovered_21.iloc[i,j+1] != 0:\n",
    "      decrementR.iloc[i,j] = (recovered_21.iloc[i,j+1]-recovered_21.iloc[i,j])/recovered_21.iloc[i,j+1]\n",
    "    elif recovered_21.iloc[i,j] != 0:\n",
    "      decrementR.iloc[i,j] = (recovered_21.iloc[i,j+1]-recovered_21.iloc[i,j])/recovered_21.iloc[i,j]\n",
    "    decrementR.iloc[i,363] = recovered_21.Country.iloc[i]"
   ]
  },
  {
   "cell_type": "markdown",
   "metadata": {
    "id": "150XQJGGkwtO"
   },
   "source": [
    "Cálculo del promedio de variaciones diarias por país."
   ]
  },
  {
   "cell_type": "code",
   "execution_count": 24,
   "metadata": {
    "colab": {
     "base_uri": "https://localhost:8080/"
    },
    "executionInfo": {
     "elapsed": 273,
     "status": "ok",
     "timestamp": 1643509913656,
     "user": {
      "displayName": "Lilian Suárez",
      "photoUrl": "https://lh3.googleusercontent.com/a-/AOh14GhmJwa8s4iz-3TR_0hi6Rb0mkeSHxQ3MHbHYcrDWw=s64",
      "userId": "13345180962142135796"
     },
     "user_tz": 300
    },
    "id": "SEgpLDXGnZfR",
    "outputId": "e1159641-d0de-4af5-cfee-7a373c0d3f7c"
   },
   "outputs": [
    {
     "data": {
      "text/plain": [
       "(193, 2)"
      ]
     },
     "execution_count": 24,
     "metadata": {},
     "output_type": "execute_result"
    }
   ],
   "source": [
    "decrement_countryR21 = pd.DataFrame(columns=range(2),\n",
    "                  index=range(193))\n",
    "for i in range(193):\n",
    "  decrement_countryR21.iloc[i][1] = decrementR.loc[i][:363].mean()\n",
    "  decrement_countryR21.iloc[i][0] = decrementR.iloc[i][363]\n",
    "  \n",
    "decrement_countryR21.columns = ['Country','Promedio_variacion_diario']\n",
    "decrement_countryR21.shape"
   ]
  },
  {
   "cell_type": "markdown",
   "metadata": {
    "id": "oQhvpQosk3SX"
   },
   "source": [
    "Producto de casos de contagio (R+D) y promedio de varaciones diarias por país para conocer cuántos contagios en hubo cada día."
   ]
  },
  {
   "cell_type": "code",
   "execution_count": 25,
   "metadata": {
    "id": "ud8Ehpe7EB_o"
   },
   "outputs": [],
   "source": [
    "decrement_countryR21 = decrement_countryR21.merge(population,how = 'left').drop(columns = ['P2020','P2022'])\n",
    "Contagios = decrement_countryR21.Promedio_variacion_diario*decrement_countryR21.P2021\n",
    "decrement_countryR21 = pd.concat([decrement_countryR21, Contagios],axis = 1)\n",
    "decrement_countryR21.columns = ['Country','Promedio_variacion_diario','P2021','Contagios']"
   ]
  },
  {
   "cell_type": "markdown",
   "metadata": {
    "id": "zIhT_qJWmbNR"
   },
   "source": [
    "Ordenar de menor a mayor."
   ]
  },
  {
   "cell_type": "code",
   "execution_count": 26,
   "metadata": {
    "colab": {
     "base_uri": "https://localhost:8080/",
     "height": 221
    },
    "executionInfo": {
     "elapsed": 11,
     "status": "ok",
     "timestamp": 1643509913658,
     "user": {
      "displayName": "Lilian Suárez",
      "photoUrl": "https://lh3.googleusercontent.com/a-/AOh14GhmJwa8s4iz-3TR_0hi6Rb0mkeSHxQ3MHbHYcrDWw=s64",
      "userId": "13345180962142135796"
     },
     "user_tz": 300
    },
    "id": "pDTqEABunZlA",
    "outputId": "1ae9f03c-6061-44b1-cf13-8ad8af50128e"
   },
   "outputs": [
    {
     "data": {
      "text/html": [
       "<div>\n",
       "<style scoped>\n",
       "    .dataframe tbody tr th:only-of-type {\n",
       "        vertical-align: middle;\n",
       "    }\n",
       "\n",
       "    .dataframe tbody tr th {\n",
       "        vertical-align: top;\n",
       "    }\n",
       "\n",
       "    .dataframe thead th {\n",
       "        text-align: right;\n",
       "    }\n",
       "</style>\n",
       "<table border=\"1\" class=\"dataframe\">\n",
       "  <thead>\n",
       "    <tr style=\"text-align: right;\">\n",
       "      <th></th>\n",
       "      <th>Country</th>\n",
       "      <th>Promedio_variacion_diario</th>\n",
       "      <th>P2021</th>\n",
       "      <th>Contagios</th>\n",
       "    </tr>\n",
       "  </thead>\n",
       "  <tbody>\n",
       "    <tr>\n",
       "      <th>36</th>\n",
       "      <td>China</td>\n",
       "      <td>-0.002487</td>\n",
       "      <td>1406537000</td>\n",
       "      <td>-3498050.683436</td>\n",
       "    </tr>\n",
       "    <tr>\n",
       "      <th>171</th>\n",
       "      <td>Tanzania</td>\n",
       "      <td>-0.002755</td>\n",
       "      <td>61498000</td>\n",
       "      <td>-169415.977961</td>\n",
       "    </tr>\n",
       "    <tr>\n",
       "      <th>131</th>\n",
       "      <td>Pakistan</td>\n",
       "      <td>-0.000626</td>\n",
       "      <td>225200000</td>\n",
       "      <td>-140926.711046</td>\n",
       "    </tr>\n",
       "    <tr>\n",
       "      <th>162</th>\n",
       "      <td>Spain</td>\n",
       "      <td>-0.002755</td>\n",
       "      <td>47324000</td>\n",
       "      <td>-130369.146006</td>\n",
       "    </tr>\n",
       "    <tr>\n",
       "      <th>127</th>\n",
       "      <td>Nigeria</td>\n",
       "      <td>-0.000569</td>\n",
       "      <td>211401000</td>\n",
       "      <td>-120346.131175</td>\n",
       "    </tr>\n",
       "  </tbody>\n",
       "</table>\n",
       "</div>"
      ],
      "text/plain": [
       "      Country Promedio_variacion_diario       P2021       Contagios\n",
       "36      China                 -0.002487  1406537000 -3498050.683436\n",
       "171  Tanzania                 -0.002755    61498000  -169415.977961\n",
       "131  Pakistan                 -0.000626   225200000  -140926.711046\n",
       "162     Spain                 -0.002755    47324000  -130369.146006\n",
       "127   Nigeria                 -0.000569   211401000  -120346.131175"
      ]
     },
     "execution_count": 26,
     "metadata": {},
     "output_type": "execute_result"
    }
   ],
   "source": [
    "decrement_countryR21.sort_values('Contagios',ascending=True).head(5)"
   ]
  },
  {
   "cell_type": "markdown",
   "metadata": {
    "id": "s7M_bzhUxIZQ"
   },
   "source": [
    "**País con menor crecimiento de fallecidos**"
   ]
  },
  {
   "cell_type": "markdown",
   "metadata": {
    "id": "lqRwdG6Q5gr8"
   },
   "source": [
    "Obtención de variación diaria de fallecidos para el año 2021."
   ]
  },
  {
   "cell_type": "code",
   "execution_count": 27,
   "metadata": {
    "id": "842o7Lh9FK5Q"
   },
   "outputs": [],
   "source": [
    "decrementD = pd.DataFrame(columns=range(364),\n",
    "                  index=range(193))\n",
    "for i in range(193):\n",
    "  for j in range(363):\n",
    "    if dead_21.iloc[i,j] == 0 & dead_21.iloc[i,j+1] == 0:\n",
    "      decrementD.iloc[i,j] = 0\n",
    "    elif dead_21.iloc[i,j+1] != 0:\n",
    "      decrementD.iloc[i,j] = (dead_21.iloc[i,j+1]-dead_21.iloc[i,j])/dead_21.iloc[i,j+1]\n",
    "    elif dead_21.iloc[i,j] != 0:\n",
    "      decrementD.iloc[i,j] = (dead_21.iloc[i,j+1]-dead_21.iloc[i,j])/dead_21.iloc[i,j]\n",
    "    decrementD.iloc[i,363] = dead_21.Country.iloc[i]"
   ]
  },
  {
   "cell_type": "markdown",
   "metadata": {
    "id": "KAqwUfGHlUgT"
   },
   "source": [
    "Cálculo del promedio de variaciones diarias por país."
   ]
  },
  {
   "cell_type": "code",
   "execution_count": 28,
   "metadata": {
    "colab": {
     "base_uri": "https://localhost:8080/"
    },
    "executionInfo": {
     "elapsed": 51,
     "status": "ok",
     "timestamp": 1643509939587,
     "user": {
      "displayName": "Lilian Suárez",
      "photoUrl": "https://lh3.googleusercontent.com/a-/AOh14GhmJwa8s4iz-3TR_0hi6Rb0mkeSHxQ3MHbHYcrDWw=s64",
      "userId": "13345180962142135796"
     },
     "user_tz": 300
    },
    "id": "6FZS1HsHn4Bk",
    "outputId": "60347f09-61bd-495b-8613-83fb39d8a2a9"
   },
   "outputs": [
    {
     "data": {
      "text/plain": [
       "(193, 2)"
      ]
     },
     "execution_count": 28,
     "metadata": {},
     "output_type": "execute_result"
    }
   ],
   "source": [
    "decrement_countryD21 = pd.DataFrame(columns=range(2),\n",
    "                  index=range(193))\n",
    "for i in range(193):\n",
    "  decrement_countryD21.iloc[i][1] = decrementD.loc[i][:363].mean()\n",
    "  decrement_countryD21.iloc[i][0] = decrementD.iloc[i][363]\n",
    "  \n",
    "decrement_countryD21.columns = ['Country','Promedio_variacion_diario']\n",
    "decrement_countryD21.shape"
   ]
  },
  {
   "cell_type": "markdown",
   "metadata": {
    "id": "gBj4ExXUliOd"
   },
   "source": [
    "Producto de casos de contagio (R+D) y promedio de varaciones diarias por país para conocer cuántos contagios en hubo cada día."
   ]
  },
  {
   "cell_type": "code",
   "execution_count": 29,
   "metadata": {
    "id": "6MFTfUhoug5S"
   },
   "outputs": [],
   "source": [
    "decrement_countryD21 = decrement_countryD21.merge(population,how = 'left').drop(columns = ['P2020','P2022'])\n",
    "Contagios = decrement_countryD21.Promedio_variacion_diario*decrement_countryD21.P2021\n",
    "decrement_countryD21 = pd.concat([decrement_countryD21, Contagios],axis = 1)\n",
    "decrement_countryD21.columns = ['Country','Promedio_variacion_diario','P2021','Contagios']"
   ]
  },
  {
   "cell_type": "markdown",
   "metadata": {
    "id": "QzkUADy1mm5h"
   },
   "source": [
    "Ordenar de menor al mayor."
   ]
  },
  {
   "cell_type": "code",
   "execution_count": 30,
   "metadata": {
    "colab": {
     "base_uri": "https://localhost:8080/",
     "height": 374
    },
    "executionInfo": {
     "elapsed": 32,
     "status": "ok",
     "timestamp": 1643509939588,
     "user": {
      "displayName": "Lilian Suárez",
      "photoUrl": "https://lh3.googleusercontent.com/a-/AOh14GhmJwa8s4iz-3TR_0hi6Rb0mkeSHxQ3MHbHYcrDWw=s64",
      "userId": "13345180962142135796"
     },
     "user_tz": 300
    },
    "id": "wc7zeVKin8VL",
    "outputId": "59e1d08e-7fd1-49a0-830b-fda6b730799f"
   },
   "outputs": [
    {
     "data": {
      "text/html": [
       "<div>\n",
       "<style scoped>\n",
       "    .dataframe tbody tr th:only-of-type {\n",
       "        vertical-align: middle;\n",
       "    }\n",
       "\n",
       "    .dataframe tbody tr th {\n",
       "        vertical-align: top;\n",
       "    }\n",
       "\n",
       "    .dataframe thead th {\n",
       "        text-align: right;\n",
       "    }\n",
       "</style>\n",
       "<table border=\"1\" class=\"dataframe\">\n",
       "  <thead>\n",
       "    <tr style=\"text-align: right;\">\n",
       "      <th></th>\n",
       "      <th>Country</th>\n",
       "      <th>Promedio_variacion_diario</th>\n",
       "      <th>P2021</th>\n",
       "      <th>Contagios</th>\n",
       "    </tr>\n",
       "  </thead>\n",
       "  <tbody>\n",
       "    <tr>\n",
       "      <th>175</th>\n",
       "      <td>Tonga</td>\n",
       "      <td>0.0</td>\n",
       "      <td>107000</td>\n",
       "      <td>0.0</td>\n",
       "    </tr>\n",
       "    <tr>\n",
       "      <th>110</th>\n",
       "      <td>Marshall Islands</td>\n",
       "      <td>0.0</td>\n",
       "      <td>60000</td>\n",
       "      <td>0.0</td>\n",
       "    </tr>\n",
       "    <tr>\n",
       "      <th>147</th>\n",
       "      <td>Samoa</td>\n",
       "      <td>0.0</td>\n",
       "      <td>200000</td>\n",
       "      <td>0.0</td>\n",
       "    </tr>\n",
       "    <tr>\n",
       "      <th>90</th>\n",
       "      <td>Kiribati</td>\n",
       "      <td>0.0</td>\n",
       "      <td>121000</td>\n",
       "      <td>0.0</td>\n",
       "    </tr>\n",
       "    <tr>\n",
       "      <th>186</th>\n",
       "      <td>Vanuatu</td>\n",
       "      <td>0.0</td>\n",
       "      <td>314000</td>\n",
       "      <td>0.0</td>\n",
       "    </tr>\n",
       "    <tr>\n",
       "      <th>74</th>\n",
       "      <td>Holy See</td>\n",
       "      <td>0.0</td>\n",
       "      <td>825</td>\n",
       "      <td>0.0</td>\n",
       "    </tr>\n",
       "    <tr>\n",
       "      <th>132</th>\n",
       "      <td>Palau</td>\n",
       "      <td>0.0</td>\n",
       "      <td>18000</td>\n",
       "      <td>0.0</td>\n",
       "    </tr>\n",
       "    <tr>\n",
       "      <th>114</th>\n",
       "      <td>Micronesia</td>\n",
       "      <td>0.0</td>\n",
       "      <td>116000</td>\n",
       "      <td>0.0</td>\n",
       "    </tr>\n",
       "    <tr>\n",
       "      <th>158</th>\n",
       "      <td>Solomon Islands</td>\n",
       "      <td>0.0</td>\n",
       "      <td>704000</td>\n",
       "      <td>0.0</td>\n",
       "    </tr>\n",
       "    <tr>\n",
       "      <th>101</th>\n",
       "      <td>Liechtenstein</td>\n",
       "      <td>0.001222</td>\n",
       "      <td>38000</td>\n",
       "      <td>46.451492</td>\n",
       "    </tr>\n",
       "  </tbody>\n",
       "</table>\n",
       "</div>"
      ],
      "text/plain": [
       "              Country Promedio_variacion_diario   P2021  Contagios\n",
       "175             Tonga                       0.0  107000        0.0\n",
       "110  Marshall Islands                       0.0   60000        0.0\n",
       "147             Samoa                       0.0  200000        0.0\n",
       "90           Kiribati                       0.0  121000        0.0\n",
       "186           Vanuatu                       0.0  314000        0.0\n",
       "74           Holy See                       0.0     825        0.0\n",
       "132             Palau                       0.0   18000        0.0\n",
       "114        Micronesia                       0.0  116000        0.0\n",
       "158   Solomon Islands                       0.0  704000        0.0\n",
       "101     Liechtenstein                  0.001222   38000  46.451492"
      ]
     },
     "execution_count": 30,
     "metadata": {},
     "output_type": "execute_result"
    }
   ],
   "source": [
    "decrement_countryD21.sort_values('Contagios',ascending=True).head(10)"
   ]
  },
  {
   "cell_type": "markdown",
   "metadata": {
    "id": "UX5lNUNzoOXt"
   },
   "source": [
    "**Respuesta:** En el 2021, el país con menor crecimiento de recuperados fue China y los de menor crecimiento de fallecidos son Tonga, Marchall Islands,Samoa. Kiribati, Vanuatu, Holy See, Palau, Micronesia, Salomon Islands y Liechtenstein."
   ]
  },
  {
   "cell_type": "markdown",
   "metadata": {
    "id": "dyy8EtoEmw0a"
   },
   "source": [
    "**5.** Indicar por continente el país con mejor tasa de sobrevivientes para cada año: 2020, 2021 y 2022."
   ]
  },
  {
   "cell_type": "markdown",
   "metadata": {
    "id": "Y4uY9zQAV0Zi"
   },
   "source": [
    "Filtración de datos para el 2020."
   ]
  },
  {
   "cell_type": "code",
   "execution_count": 31,
   "metadata": {
    "id": "zBsVDdqpSDlv"
   },
   "outputs": [],
   "source": [
    "columns = covid19.columns[covid19.columns.str.endswith('20')].union(pd.Index(['Country','status']))"
   ]
  },
  {
   "cell_type": "code",
   "execution_count": 32,
   "metadata": {
    "id": "65P7TaKBS1zZ"
   },
   "outputs": [],
   "source": [
    "covid19_20 = covid19[columns]"
   ]
  },
  {
   "cell_type": "code",
   "execution_count": 33,
   "metadata": {
    "colab": {
     "base_uri": "https://localhost:8080/"
    },
    "executionInfo": {
     "elapsed": 29,
     "status": "ok",
     "timestamp": 1643509939590,
     "user": {
      "displayName": "Lilian Suárez",
      "photoUrl": "https://lh3.googleusercontent.com/a-/AOh14GhmJwa8s4iz-3TR_0hi6Rb0mkeSHxQ3MHbHYcrDWw=s64",
      "userId": "13345180962142135796"
     },
     "user_tz": 300
    },
    "id": "HjKUJ9TiS-Qa",
    "outputId": "3d9ddb8f-87f8-4dbc-dae1-19dd8806a216"
   },
   "outputs": [
    {
     "data": {
      "text/plain": [
       "(193, 346)"
      ]
     },
     "execution_count": 33,
     "metadata": {},
     "output_type": "execute_result"
    }
   ],
   "source": [
    "recovered_20 = covid19_20[covid19_20.status =='R'].drop(columns = ['status'])\n",
    "recovered_20 = recovered_20.reset_index().drop(columns = ['index'])\n",
    "recovered_20.shape"
   ]
  },
  {
   "cell_type": "markdown",
   "metadata": {
    "id": "5ZeFE3sBWAeI"
   },
   "source": [
    "Cálculo de tasa de sobrevivientes para el 2020, 2021 y 2022.\n",
    "\n",
    "Tasa de sobrevivientes = (Recuperados/Poblacion) *100"
   ]
  },
  {
   "cell_type": "code",
   "execution_count": 34,
   "metadata": {
    "colab": {
     "base_uri": "https://localhost:8080/"
    },
    "executionInfo": {
     "elapsed": 473,
     "status": "ok",
     "timestamp": 1643509940048,
     "user": {
      "displayName": "Lilian Suárez",
      "photoUrl": "https://lh3.googleusercontent.com/a-/AOh14GhmJwa8s4iz-3TR_0hi6Rb0mkeSHxQ3MHbHYcrDWw=s64",
      "userId": "13345180962142135796"
     },
     "user_tz": 300
    },
    "id": "WqTwQlsvKHJU",
    "outputId": "09eb10e4-51ec-4e31-97a0-612230357bcd"
   },
   "outputs": [
    {
     "data": {
      "text/plain": [
       "(193, 2)"
      ]
     },
     "execution_count": 34,
     "metadata": {},
     "output_type": "execute_result"
    }
   ],
   "source": [
    "recoveredT_20 = pd.DataFrame(columns=range(2),\n",
    "                  index=range(193))\n",
    "for i in range(0,193):\n",
    "  recoveredT_20.iloc[i][1] = recovered_20.loc[i][:345].sum()\n",
    "  recoveredT_20.iloc[i][0] = recovered_20.iloc[i][345]\n",
    "  \n",
    "recoveredT_20.columns = ['Country','Recuperados']\n",
    "recoveredT_20.shape"
   ]
  },
  {
   "cell_type": "code",
   "execution_count": 35,
   "metadata": {
    "id": "qZmau_rTNiso"
   },
   "outputs": [],
   "source": [
    "recoveredT_20 = recoveredT_20.merge(covid19.loc[:, ['Country','Continent']].drop_duplicates(),how = 'left')\n",
    "recoveredT_20 = recoveredT_20.merge(population,how = 'left').drop(columns = ['P2021','P2022'])\n",
    "tasa_sobrevivientes = (recoveredT_20.Recuperados/recoveredT_20.P2020)*100\n",
    "recoveredT_20 = pd.concat([recoveredT_20,tasa_sobrevivientes],axis = 1)\n",
    "recoveredT_20.columns = ['Country','Recuperados','Continent','P2020','Tasa Sobrevivientes']"
   ]
  },
  {
   "cell_type": "code",
   "execution_count": 36,
   "metadata": {
    "colab": {
     "base_uri": "https://localhost:8080/"
    },
    "executionInfo": {
     "elapsed": 46,
     "status": "ok",
     "timestamp": 1643509940050,
     "user": {
      "displayName": "Lilian Suárez",
      "photoUrl": "https://lh3.googleusercontent.com/a-/AOh14GhmJwa8s4iz-3TR_0hi6Rb0mkeSHxQ3MHbHYcrDWw=s64",
      "userId": "13345180962142135796"
     },
     "user_tz": 300
    },
    "id": "uAG4wuR0WG5r",
    "outputId": "332ea6bc-fcfe-4d2a-80b6-34ab22d8b04c"
   },
   "outputs": [
    {
     "data": {
      "text/plain": [
       "(193, 2)"
      ]
     },
     "execution_count": 36,
     "metadata": {},
     "output_type": "execute_result"
    }
   ],
   "source": [
    "recovered_21 = recovered_21.reset_index().drop(columns = ['index'])\n",
    "recoveredT_21 = pd.DataFrame(columns=range(2),\n",
    "                  index=range(193))\n",
    "for i in range(0,193):\n",
    "  recoveredT_21.iloc[i][1] = recovered_21.loc[i][:365].sum()\n",
    "  recoveredT_21.iloc[i][0] = recovered_21.iloc[i][365]\n",
    "  \n",
    "recoveredT_21.columns = ['Country','Recuperados']\n",
    "recoveredT_21.shape"
   ]
  },
  {
   "cell_type": "code",
   "execution_count": 37,
   "metadata": {
    "id": "zO-brJLBW7G1"
   },
   "outputs": [],
   "source": [
    "recoveredT_21 = recoveredT_21.merge(covid19.loc[:, ['Country','Continent']].drop_duplicates(),how = 'left')\n",
    "recoveredT_21 = recoveredT_21.merge(population,how = 'left').drop(columns = ['P2020','P2022'])\n",
    "tasa_sobrevivientes = (recoveredT_21.Recuperados/recoveredT_21.P2021)*100\n",
    "recoveredT_21 = pd.concat([recoveredT_21,tasa_sobrevivientes],axis = 1)\n",
    "recoveredT_21.columns = ['Country','Recuperados','Continent','P2021','Tasa Sobrevivientes']"
   ]
  },
  {
   "cell_type": "code",
   "execution_count": 38,
   "metadata": {
    "colab": {
     "base_uri": "https://localhost:8080/"
    },
    "executionInfo": {
     "elapsed": 32,
     "status": "ok",
     "timestamp": 1643509940051,
     "user": {
      "displayName": "Lilian Suárez",
      "photoUrl": "https://lh3.googleusercontent.com/a-/AOh14GhmJwa8s4iz-3TR_0hi6Rb0mkeSHxQ3MHbHYcrDWw=s64",
      "userId": "13345180962142135796"
     },
     "user_tz": 300
    },
    "id": "295WUaiEXjCN",
    "outputId": "58c3b255-8336-4986-8b6d-0c1f25e5ccd2"
   },
   "outputs": [
    {
     "data": {
      "text/plain": [
       "(193, 2)"
      ]
     },
     "execution_count": 38,
     "metadata": {},
     "output_type": "execute_result"
    }
   ],
   "source": [
    "recovered_22 = recovered_22.reset_index().drop(columns = ['index'])\n",
    "recoveredT_22 = pd.DataFrame(columns=range(2),\n",
    "                  index=range(193))\n",
    "for i in range(0,193):\n",
    "  recoveredT_22.iloc[i][1] = recovered_22.loc[i][:18].sum()\n",
    "  recoveredT_22.iloc[i][0] = recovered_22.iloc[i][18]\n",
    "  \n",
    "recoveredT_22.columns = ['Country','Recuperados']\n",
    "recoveredT_22.shape"
   ]
  },
  {
   "cell_type": "code",
   "execution_count": 39,
   "metadata": {
    "id": "MXePq-rmX0_a"
   },
   "outputs": [],
   "source": [
    "recoveredT_22 = recoveredT_22.merge(covid19.loc[:, ['Country','Continent']].drop_duplicates(),how = 'left')\n",
    "recoveredT_22 = recoveredT_22.merge(population,how = 'left').drop(columns = ['P2020','P2021'])\n",
    "tasa_sobrevivientes = (recoveredT_22.Recuperados/recoveredT_22.P2022)*100\n",
    "recoveredT_22 = pd.concat([recoveredT_22,tasa_sobrevivientes],axis = 1)\n",
    "recoveredT_22.columns = ['Country','Recuperados','Continent','P2022','Tasa Sobrevivientes']"
   ]
  },
  {
   "cell_type": "markdown",
   "metadata": {
    "id": "6WGI_y-LD5xH"
   },
   "source": [
    "Filtración por continente para cada año."
   ]
  },
  {
   "cell_type": "code",
   "execution_count": 40,
   "metadata": {
    "colab": {
     "base_uri": "https://localhost:8080/",
     "height": 221
    },
    "executionInfo": {
     "elapsed": 19,
     "status": "ok",
     "timestamp": 1643509940052,
     "user": {
      "displayName": "Lilian Suárez",
      "photoUrl": "https://lh3.googleusercontent.com/a-/AOh14GhmJwa8s4iz-3TR_0hi6Rb0mkeSHxQ3MHbHYcrDWw=s64",
      "userId": "13345180962142135796"
     },
     "user_tz": 300
    },
    "id": "Nxhs0QSYSZBD",
    "outputId": "ae2b74ab-521a-4f3b-9197-d6980a38db15"
   },
   "outputs": [
    {
     "data": {
      "text/html": [
       "<div>\n",
       "<style scoped>\n",
       "    .dataframe tbody tr th:only-of-type {\n",
       "        vertical-align: middle;\n",
       "    }\n",
       "\n",
       "    .dataframe tbody tr th {\n",
       "        vertical-align: top;\n",
       "    }\n",
       "\n",
       "    .dataframe thead th {\n",
       "        text-align: right;\n",
       "    }\n",
       "</style>\n",
       "<table border=\"1\" class=\"dataframe\">\n",
       "  <thead>\n",
       "    <tr style=\"text-align: right;\">\n",
       "      <th></th>\n",
       "      <th>Country</th>\n",
       "      <th>Recuperados</th>\n",
       "      <th>Continent</th>\n",
       "      <th>P2020</th>\n",
       "      <th>Tasa Sobrevivientes</th>\n",
       "    </tr>\n",
       "  </thead>\n",
       "  <tbody>\n",
       "    <tr>\n",
       "      <th>35</th>\n",
       "      <td>Chile</td>\n",
       "      <td>84642465</td>\n",
       "      <td>America</td>\n",
       "      <td>19116209</td>\n",
       "      <td>442.778508</td>\n",
       "    </tr>\n",
       "    <tr>\n",
       "      <th>29</th>\n",
       "      <td>Cabo Verde</td>\n",
       "      <td>1067472</td>\n",
       "      <td>Africa</td>\n",
       "      <td>555988</td>\n",
       "      <td>191.995511</td>\n",
       "    </tr>\n",
       "    <tr>\n",
       "      <th>140</th>\n",
       "      <td>Qatar</td>\n",
       "      <td>24351334</td>\n",
       "      <td>Asia</td>\n",
       "      <td>2881060</td>\n",
       "      <td>845.221342</td>\n",
       "    </tr>\n",
       "    <tr>\n",
       "      <th>3</th>\n",
       "      <td>Andorra</td>\n",
       "      <td>553171</td>\n",
       "      <td>Europa</td>\n",
       "      <td>77265</td>\n",
       "      <td>715.939947</td>\n",
       "    </tr>\n",
       "    <tr>\n",
       "      <th>8</th>\n",
       "      <td>Australia</td>\n",
       "      <td>3794554</td>\n",
       "      <td>Oceania</td>\n",
       "      <td>25687041</td>\n",
       "      <td>14.77225</td>\n",
       "    </tr>\n",
       "  </tbody>\n",
       "</table>\n",
       "</div>"
      ],
      "text/plain": [
       "        Country Recuperados Continent     P2020 Tasa Sobrevivientes\n",
       "35        Chile    84642465   America  19116209          442.778508\n",
       "29   Cabo Verde     1067472  Africa      555988          191.995511\n",
       "140       Qatar    24351334    Asia     2881060          845.221342\n",
       "3       Andorra      553171  Europa       77265          715.939947\n",
       "8     Australia     3794554   Oceania  25687041            14.77225"
      ]
     },
     "execution_count": 40,
     "metadata": {},
     "output_type": "execute_result"
    }
   ],
   "source": [
    "continent20 = recoveredT_20[recoveredT_20.Continent == 'America'].sort_values('Tasa Sobrevivientes',ascending=False).head(1)\n",
    "for i in ['Africa\\xa0\\xa0','Asia\\xa0\\xa0','Europa\\xa0\\xa0','Oceania']:\n",
    "  continent20 = pd.concat([continent20,recoveredT_20[recoveredT_20.Continent == i].sort_values('Tasa Sobrevivientes',ascending=False).head(1)])\n",
    "continent20"
   ]
  },
  {
   "cell_type": "code",
   "execution_count": 41,
   "metadata": {
    "colab": {
     "base_uri": "https://localhost:8080/",
     "height": 221
    },
    "executionInfo": {
     "elapsed": 17,
     "status": "ok",
     "timestamp": 1643509940052,
     "user": {
      "displayName": "Lilian Suárez",
      "photoUrl": "https://lh3.googleusercontent.com/a-/AOh14GhmJwa8s4iz-3TR_0hi6Rb0mkeSHxQ3MHbHYcrDWw=s64",
      "userId": "13345180962142135796"
     },
     "user_tz": 300
    },
    "id": "z9iZdB6YXLua",
    "outputId": "1d478272-ab7f-425a-ccae-fa59c63e2eb6"
   },
   "outputs": [
    {
     "data": {
      "text/html": [
       "<div>\n",
       "<style scoped>\n",
       "    .dataframe tbody tr th:only-of-type {\n",
       "        vertical-align: middle;\n",
       "    }\n",
       "\n",
       "    .dataframe tbody tr th {\n",
       "        vertical-align: top;\n",
       "    }\n",
       "\n",
       "    .dataframe thead th {\n",
       "        text-align: right;\n",
       "    }\n",
       "</style>\n",
       "<table border=\"1\" class=\"dataframe\">\n",
       "  <thead>\n",
       "    <tr style=\"text-align: right;\">\n",
       "      <th></th>\n",
       "      <th>Country</th>\n",
       "      <th>Recuperados</th>\n",
       "      <th>Continent</th>\n",
       "      <th>P2021</th>\n",
       "      <th>Tasa Sobrevivientes</th>\n",
       "    </tr>\n",
       "  </thead>\n",
       "  <tbody>\n",
       "    <tr>\n",
       "      <th>133</th>\n",
       "      <td>Panama</td>\n",
       "      <td>73332101</td>\n",
       "      <td>America</td>\n",
       "      <td>4382000</td>\n",
       "      <td>1673.484733</td>\n",
       "    </tr>\n",
       "    <tr>\n",
       "      <th>153</th>\n",
       "      <td>Seychelles</td>\n",
       "      <td>1445046</td>\n",
       "      <td>Africa</td>\n",
       "      <td>99000</td>\n",
       "      <td>1459.642424</td>\n",
       "    </tr>\n",
       "    <tr>\n",
       "      <th>12</th>\n",
       "      <td>Bahrain</td>\n",
       "      <td>36650701</td>\n",
       "      <td>Asia</td>\n",
       "      <td>1748000</td>\n",
       "      <td>2096.722025</td>\n",
       "    </tr>\n",
       "    <tr>\n",
       "      <th>3</th>\n",
       "      <td>Andorra</td>\n",
       "      <td>2532478</td>\n",
       "      <td>Europa</td>\n",
       "      <td>77000</td>\n",
       "      <td>3288.932468</td>\n",
       "    </tr>\n",
       "    <tr>\n",
       "      <th>8</th>\n",
       "      <td>Australia</td>\n",
       "      <td>5026540</td>\n",
       "      <td>Oceania</td>\n",
       "      <td>25967000</td>\n",
       "      <td>19.357415</td>\n",
       "    </tr>\n",
       "  </tbody>\n",
       "</table>\n",
       "</div>"
      ],
      "text/plain": [
       "        Country Recuperados Continent     P2021 Tasa Sobrevivientes\n",
       "133      Panama    73332101   America   4382000         1673.484733\n",
       "153  Seychelles     1445046  Africa       99000         1459.642424\n",
       "12      Bahrain    36650701    Asia     1748000         2096.722025\n",
       "3       Andorra     2532478  Europa       77000         3288.932468\n",
       "8     Australia     5026540   Oceania  25967000           19.357415"
      ]
     },
     "execution_count": 41,
     "metadata": {},
     "output_type": "execute_result"
    }
   ],
   "source": [
    "continent21 = recoveredT_21[recoveredT_21.Continent == 'America'].sort_values('Tasa Sobrevivientes',ascending=False).head(1)\n",
    "for i in ['Africa\\xa0\\xa0','Asia\\xa0\\xa0','Europa\\xa0\\xa0','Oceania']:\n",
    "  continent21 = pd.concat([continent21,recoveredT_21[recoveredT_21.Continent == i].sort_values('Tasa Sobrevivientes',ascending=False).head(1)])\n",
    "continent21"
   ]
  },
  {
   "cell_type": "code",
   "execution_count": 42,
   "metadata": {
    "colab": {
     "base_uri": "https://localhost:8080/",
     "height": 221
    },
    "executionInfo": {
     "elapsed": 16,
     "status": "ok",
     "timestamp": 1643509940053,
     "user": {
      "displayName": "Lilian Suárez",
      "photoUrl": "https://lh3.googleusercontent.com/a-/AOh14GhmJwa8s4iz-3TR_0hi6Rb0mkeSHxQ3MHbHYcrDWw=s64",
      "userId": "13345180962142135796"
     },
     "user_tz": 300
    },
    "id": "-3WxqRHKXXtc",
    "outputId": "dc610b18-5515-46ee-f68b-7073e660ea00"
   },
   "outputs": [
    {
     "data": {
      "text/html": [
       "<div>\n",
       "<style scoped>\n",
       "    .dataframe tbody tr th:only-of-type {\n",
       "        vertical-align: middle;\n",
       "    }\n",
       "\n",
       "    .dataframe tbody tr th {\n",
       "        vertical-align: top;\n",
       "    }\n",
       "\n",
       "    .dataframe thead th {\n",
       "        text-align: right;\n",
       "    }\n",
       "</style>\n",
       "<table border=\"1\" class=\"dataframe\">\n",
       "  <thead>\n",
       "    <tr style=\"text-align: right;\">\n",
       "      <th></th>\n",
       "      <th>Country</th>\n",
       "      <th>Recuperados</th>\n",
       "      <th>Continent</th>\n",
       "      <th>P2022</th>\n",
       "      <th>Tasa Sobrevivientes</th>\n",
       "    </tr>\n",
       "  </thead>\n",
       "  <tbody>\n",
       "    <tr>\n",
       "      <th>5</th>\n",
       "      <td>Antigua and Barbuda</td>\n",
       "      <td>0</td>\n",
       "      <td>America</td>\n",
       "      <td>100000</td>\n",
       "      <td>0.0</td>\n",
       "    </tr>\n",
       "    <tr>\n",
       "      <th>2</th>\n",
       "      <td>Algeria</td>\n",
       "      <td>0</td>\n",
       "      <td>Africa</td>\n",
       "      <td>45350000</td>\n",
       "      <td>0.0</td>\n",
       "    </tr>\n",
       "    <tr>\n",
       "      <th>0</th>\n",
       "      <td>Afghanistan</td>\n",
       "      <td>0</td>\n",
       "      <td>Asia</td>\n",
       "      <td>40754000</td>\n",
       "      <td>0.0</td>\n",
       "    </tr>\n",
       "    <tr>\n",
       "      <th>1</th>\n",
       "      <td>Albania</td>\n",
       "      <td>0</td>\n",
       "      <td>Europa</td>\n",
       "      <td>2824000</td>\n",
       "      <td>0.0</td>\n",
       "    </tr>\n",
       "    <tr>\n",
       "      <th>8</th>\n",
       "      <td>Australia</td>\n",
       "      <td>0</td>\n",
       "      <td>Oceania</td>\n",
       "      <td>26241000</td>\n",
       "      <td>0.0</td>\n",
       "    </tr>\n",
       "  </tbody>\n",
       "</table>\n",
       "</div>"
      ],
      "text/plain": [
       "               Country Recuperados Continent     P2022 Tasa Sobrevivientes\n",
       "5  Antigua and Barbuda           0   America    100000                 0.0\n",
       "2              Algeria           0  Africa    45350000                 0.0\n",
       "0          Afghanistan           0    Asia    40754000                 0.0\n",
       "1              Albania           0  Europa     2824000                 0.0\n",
       "8            Australia           0   Oceania  26241000                 0.0"
      ]
     },
     "execution_count": 42,
     "metadata": {},
     "output_type": "execute_result"
    }
   ],
   "source": [
    "continent22 = recoveredT_22[recoveredT_22.Continent == 'America'].sort_values('Tasa Sobrevivientes',ascending=False).head(1)\n",
    "for i in ['Africa\\xa0\\xa0','Asia\\xa0\\xa0','Europa\\xa0\\xa0','Oceania']:\n",
    "  continent22 = pd.concat([continent22,recoveredT_22[recoveredT_22.Continent == i].sort_values('Tasa Sobrevivientes',ascending=False).head(1)])\n",
    "continent22"
   ]
  },
  {
   "cell_type": "markdown",
   "metadata": {
    "id": "AQRwgqaG6gyN"
   },
   "source": [
    "**6.** Realice un diagrama de barras (barplot) que permita visualizar la cantidad de pacientes recuperados por año para los 10 primeros paises en tasa de contagio."
   ]
  },
  {
   "cell_type": "markdown",
   "metadata": {
    "id": "7aRhxemn0TNB"
   },
   "source": [
    "Total de contagios por país para cada año."
   ]
  },
  {
   "cell_type": "code",
   "execution_count": 43,
   "metadata": {
    "id": "OBWTSHw4xP3v"
   },
   "outputs": [],
   "source": [
    "covid19C20 = covid19_20.groupby(['Country'],as_index = False).sum()\n",
    "covid19C21 = covid19_21.groupby(['Country'],as_index = False).sum()\n",
    "covid19C22 = covid19_22.groupby(['Country'],as_index = False).sum()"
   ]
  },
  {
   "cell_type": "code",
   "execution_count": 44,
   "metadata": {
    "id": "vFpY0ITcYoua"
   },
   "outputs": [],
   "source": [
    "covid19CT = pd.DataFrame(columns=range(2),\n",
    "                  index=range(193))\n",
    "for i in range(0,193):\n",
    "  covid19CT.iloc[i][1] = covid19C20.loc[i][1:729].sum()\n",
    "  covid19CT.iloc[i][0] = covid19C20.Country[i]\n",
    "covid19CT.columns = ['Country','TotalContagios']\n",
    "covid19C20 = covid19CT "
   ]
  },
  {
   "cell_type": "code",
   "execution_count": 45,
   "metadata": {
    "id": "8zU-IbhxihmG"
   },
   "outputs": [],
   "source": [
    "covid19CT = pd.DataFrame(columns=range(2),\n",
    "                  index=range(193))\n",
    "for i in range(0,193):\n",
    "  covid19CT.iloc[i][1] = covid19C21.loc[i][1:729].sum()\n",
    "  covid19CT.iloc[i][0] = covid19C21.Country[i]\n",
    "covid19CT.columns = ['Country','TotalContagios']\n",
    "covid19C21 = covid19CT "
   ]
  },
  {
   "cell_type": "code",
   "execution_count": 46,
   "metadata": {
    "id": "agAhmvxbjed3"
   },
   "outputs": [],
   "source": [
    "covid19CT = pd.DataFrame(columns=range(2),\n",
    "                  index=range(193))\n",
    "for i in range(0,193):\n",
    "  covid19CT.iloc[i][1] = covid19C22.loc[i][1:729].sum()\n",
    "  covid19CT.iloc[i][0] = covid19C22.Country[i]\n",
    "covid19CT.columns = ['Country','TotalContagios']\n",
    "covid19C22 = covid19CT "
   ]
  },
  {
   "cell_type": "markdown",
   "metadata": {
    "id": "msEdFpgN5aUJ"
   },
   "source": [
    "Generación de Data Frame con recuperados de los 10 países con tasa de contagio.\n",
    "\n",
    "Tasa de contagio = (Recuperados + Fallecidos)/Poblacion *100"
   ]
  },
  {
   "cell_type": "code",
   "execution_count": 47,
   "metadata": {
    "id": "FVwfG5Cxi5Qe"
   },
   "outputs": [],
   "source": [
    "covid19C20 = covid19C20.merge(covid19.loc[:, ['Country','Continent']].drop_duplicates(),how = 'left')\n",
    "covid19C20 = covid19C20.merge(population,how = 'left').drop(columns = ['P2022','P2021'])\n",
    "tasa_contagios = (covid19C20.TotalContagios/covid19C20.P2020)*100\n",
    "covid19C20 = pd.concat([covid19C20,tasa_contagios],axis = 1)\n",
    "covid19C20.columns = ['Country','TotalContagios','Continent','P2022','Tasa Contagios']\n",
    "covid19C20 = covid19C20.sort_values('Tasa Contagios',ascending=False).head(10).merge(recoveredT_20.loc[:,['Country','Recuperados']],how = 'left')\n",
    "covid19C20 = covid19C20.loc[:,['Country','Recuperados']]"
   ]
  },
  {
   "cell_type": "code",
   "execution_count": 48,
   "metadata": {
    "id": "tyifs_nmmg_w"
   },
   "outputs": [],
   "source": [
    "covid19C21 = covid19C21.merge(covid19.loc[:, ['Country','Continent']].drop_duplicates(),how = 'left')\n",
    "covid19C21 = covid19C21.merge(population,how = 'left').drop(columns = ['P2022','P2020'])\n",
    "tasa_contagios = (covid19C21.TotalContagios/covid19C21.P2021)*100\n",
    "covid19C21 = pd.concat([covid19C21,tasa_contagios],axis = 1)\n",
    "covid19C21.columns = ['Country','TotalContagios','Continent','P2021','Tasa Contagios']\n",
    "covid19C21 = covid19C21.sort_values('Tasa Contagios',ascending=False).head(10).merge(recoveredT_21.loc[:,['Country','Recuperados']],how = 'left')\n",
    "covid19C21 = covid19C21.loc[:,['Country','Recuperados']]"
   ]
  },
  {
   "cell_type": "code",
   "execution_count": 49,
   "metadata": {
    "id": "XuaxwoF3nkfk"
   },
   "outputs": [],
   "source": [
    "covid19C22 = covid19C22.merge(covid19.loc[:, ['Country','Continent']].drop_duplicates(),how = 'left')\n",
    "covid19C22 = covid19C22.merge(population,how = 'left').drop(columns = ['P2021','P2020'])\n",
    "tasa_contagios = (covid19C22.TotalContagios/covid19C22.P2022)*100\n",
    "covid19C22 = pd.concat([covid19C22,tasa_contagios],axis = 1)\n",
    "covid19C22.columns = ['Country','TotalContagios','Continent','P2022','Tasa Contagios']\n",
    "covid19C22 = covid19C22.sort_values('Tasa Contagios',ascending=False).head(10).merge(recoveredT_22.loc[:,['Country','Recuperados']],how = 'left')\n",
    "covid19C22 = covid19C22.loc[:,['Country','Recuperados']]"
   ]
  },
  {
   "cell_type": "markdown",
   "metadata": {
    "id": "QWbpmqpm9E08"
   },
   "source": [
    "Barplot para la cantidad de pacientes recuperados por año de los 10 primeros paises en tasa de contagio."
   ]
  },
  {
   "cell_type": "code",
   "execution_count": 50,
   "metadata": {
    "colab": {
     "base_uri": "https://localhost:8080/",
     "height": 314
    },
    "executionInfo": {
     "elapsed": 10,
     "status": "ok",
     "timestamp": 1643509940916,
     "user": {
      "displayName": "Lilian Suárez",
      "photoUrl": "https://lh3.googleusercontent.com/a-/AOh14GhmJwa8s4iz-3TR_0hi6Rb0mkeSHxQ3MHbHYcrDWw=s64",
      "userId": "13345180962142135796"
     },
     "user_tz": 300
    },
    "id": "PpC79iSwphge",
    "outputId": "a5e41d53-83a2-40dd-ac60-90fefe93f582"
   },
   "outputs": [
    {
     "data": {
      "image/png": "[encoded data removed]",
      "text/plain": [
       "<Figure size 432x288 with 1 Axes>"
      ]
     },
     "metadata": {
      "needs_background": "light"
     },
     "output_type": "display_data"
    }
   ],
   "source": [
    "plt.barh(covid19C20.Country,covid19C20.Recuperados)\n",
    "plt.ylabel('Cantidad de recuperados')\n",
    "plt.title('Recuperados 2020')\n",
    "plt.show()"
   ]
  },
  {
   "cell_type": "code",
   "execution_count": 51,
   "metadata": {
    "colab": {
     "base_uri": "https://localhost:8080/",
     "height": 314
    },
    "executionInfo": {
     "elapsed": 1268,
     "status": "ok",
     "timestamp": 1643509942176,
     "user": {
      "displayName": "Lilian Suárez",
      "photoUrl": "https://lh3.googleusercontent.com/a-/AOh14GhmJwa8s4iz-3TR_0hi6Rb0mkeSHxQ3MHbHYcrDWw=s64",
      "userId": "13345180962142135796"
     },
     "user_tz": 300
    },
    "id": "3HKPIAdpqjxv",
    "outputId": "483426d0-3c9c-43a9-ec0c-d9cfac7de714"
   },
   "outputs": [
    {
     "data": {
      "image/png": "[encoded data removed]",
      "text/plain": [
       "<Figure size 432x288 with 1 Axes>"
      ]
     },
     "metadata": {
      "needs_background": "light"
     },
     "output_type": "display_data"
    }
   ],
   "source": [
    "plt.barh(covid19C21.Country,covid19C21.Recuperados)\n",
    "plt.ylabel('Cantidad de recuperados')\n",
    "plt.title('Recuperados 2021')\n",
    "plt.show()"
   ]
  },
  {
   "cell_type": "code",
   "execution_count": 52,
   "metadata": {
    "colab": {
     "base_uri": "https://localhost:8080/",
     "height": 301
    },
    "executionInfo": {
     "elapsed": 27,
     "status": "ok",
     "timestamp": 1643509942178,
     "user": {
      "displayName": "Lilian Suárez",
      "photoUrl": "https://lh3.googleusercontent.com/a-/AOh14GhmJwa8s4iz-3TR_0hi6Rb0mkeSHxQ3MHbHYcrDWw=s64",
      "userId": "13345180962142135796"
     },
     "user_tz": 300
    },
    "id": "orjK-PhIqmLq",
    "outputId": "836444be-cd0d-4590-bd72-9f6648dea530"
   },
   "outputs": [
    {
     "data": {
      "image/png": "[encoded data removed]",
      "text/plain": [
       "<Figure size 432x288 with 1 Axes>"
      ]
     },
     "metadata": {
      "needs_background": "light"
     },
     "output_type": "display_data"
    }
   ],
   "source": [
    "plt.barh(covid19C22.Country,covid19C22.Recuperados)\n",
    "plt.ylabel('Cantidad de recuperados')\n",
    "plt.title('Recuperados 2022')\n",
    "plt.show()"
   ]
  },
  {
   "cell_type": "markdown",
   "metadata": {
    "id": "SjsyOAc-6jPA"
   },
   "source": [
    "**7.** Realice un diagrama de barras(barplot)que permita visualizar la cantidad de pacientes fallecidos por año para los 10 primeros paises en tasa de contagio."
   ]
  },
  {
   "cell_type": "code",
   "execution_count": 53,
   "metadata": {
    "colab": {
     "base_uri": "https://localhost:8080/"
    },
    "executionInfo": {
     "elapsed": 24,
     "status": "ok",
     "timestamp": 1643509942178,
     "user": {
      "displayName": "Lilian Suárez",
      "photoUrl": "https://lh3.googleusercontent.com/a-/AOh14GhmJwa8s4iz-3TR_0hi6Rb0mkeSHxQ3MHbHYcrDWw=s64",
      "userId": "13345180962142135796"
     },
     "user_tz": 300
    },
    "id": "wilcrKQhr3iE",
    "outputId": "9083e6f9-b507-41f4-b070-fbe3e813e3a8"
   },
   "outputs": [
    {
     "data": {
      "text/plain": [
       "(193, 346)"
      ]
     },
     "execution_count": 53,
     "metadata": {},
     "output_type": "execute_result"
    }
   ],
   "source": [
    "dead_20 = covid19_20[covid19_20.status =='D'].drop(columns = ['status'])\n",
    "dead_20 = dead_20.reset_index().drop(columns = ['index'])\n",
    "dead_20.shape"
   ]
  },
  {
   "cell_type": "code",
   "execution_count": 54,
   "metadata": {
    "colab": {
     "base_uri": "https://localhost:8080/"
    },
    "executionInfo": {
     "elapsed": 569,
     "status": "ok",
     "timestamp": 1643509942740,
     "user": {
      "displayName": "Lilian Suárez",
      "photoUrl": "https://lh3.googleusercontent.com/a-/AOh14GhmJwa8s4iz-3TR_0hi6Rb0mkeSHxQ3MHbHYcrDWw=s64",
      "userId": "13345180962142135796"
     },
     "user_tz": 300
    },
    "id": "By_-CnG6rA9z",
    "outputId": "113e605f-f362-4899-cafa-fea776cb67b2"
   },
   "outputs": [
    {
     "data": {
      "text/plain": [
       "(193, 2)"
      ]
     },
     "execution_count": 54,
     "metadata": {},
     "output_type": "execute_result"
    }
   ],
   "source": [
    "deadT_20 = pd.DataFrame(columns=range(2),\n",
    "                  index=range(193))\n",
    "for i in range(0,193):\n",
    "  deadT_20.iloc[i][1] = dead_20.loc[i][:345].sum()\n",
    "  deadT_20.iloc[i][0] = dead_20.iloc[i][345]\n",
    "  \n",
    "deadT_20.columns = ['Country','Fallecidos']\n",
    "deadT_20.shape"
   ]
  },
  {
   "cell_type": "code",
   "execution_count": 55,
   "metadata": {
    "colab": {
     "base_uri": "https://localhost:8080/"
    },
    "executionInfo": {
     "elapsed": 37,
     "status": "ok",
     "timestamp": 1643509942741,
     "user": {
      "displayName": "Lilian Suárez",
      "photoUrl": "https://lh3.googleusercontent.com/a-/AOh14GhmJwa8s4iz-3TR_0hi6Rb0mkeSHxQ3MHbHYcrDWw=s64",
      "userId": "13345180962142135796"
     },
     "user_tz": 300
    },
    "id": "rsxNR4Masa1Q",
    "outputId": "bc6a1084-7252-4dad-d332-a04c2cbbbc19"
   },
   "outputs": [
    {
     "data": {
      "text/plain": [
       "(193, 2)"
      ]
     },
     "execution_count": 55,
     "metadata": {},
     "output_type": "execute_result"
    }
   ],
   "source": [
    "dead_21 = dead_21.reset_index().drop(columns = ['index'])\n",
    "deadT_21 = pd.DataFrame(columns=range(2),\n",
    "                  index=range(193))\n",
    "for i in range(0,193):\n",
    "  deadT_21.iloc[i][1] = dead_21.loc[i][:365].sum()\n",
    "  deadT_21.iloc[i][0] = dead_21.iloc[i][365]\n",
    "  \n",
    "deadT_21.columns = ['Country','Fallecidos']\n",
    "deadT_21.shape"
   ]
  },
  {
   "cell_type": "code",
   "execution_count": 56,
   "metadata": {
    "colab": {
     "base_uri": "https://localhost:8080/"
    },
    "executionInfo": {
     "elapsed": 23,
     "status": "ok",
     "timestamp": 1643509942742,
     "user": {
      "displayName": "Lilian Suárez",
      "photoUrl": "https://lh3.googleusercontent.com/a-/AOh14GhmJwa8s4iz-3TR_0hi6Rb0mkeSHxQ3MHbHYcrDWw=s64",
      "userId": "13345180962142135796"
     },
     "user_tz": 300
    },
    "id": "J9m5x1CUsmzW",
    "outputId": "16847c7c-b8d3-4a52-eddb-4e2ecb76b8b4"
   },
   "outputs": [
    {
     "data": {
      "text/plain": [
       "(193, 2)"
      ]
     },
     "execution_count": 56,
     "metadata": {},
     "output_type": "execute_result"
    }
   ],
   "source": [
    "dead_22 = dead_22.reset_index().drop(columns = ['index'])\n",
    "deadT_22 = pd.DataFrame(columns=range(2),\n",
    "                  index=range(193))\n",
    "for i in range(0,193):\n",
    "  deadT_22.iloc[i][1] = dead_22.loc[i][1:18].sum()\n",
    "  deadT_22.iloc[i][0] = dead_22.iloc[i][18]\n",
    "  \n",
    "deadT_22.columns = ['Country','Fallecidos']\n",
    "deadT_22.shape"
   ]
  },
  {
   "cell_type": "code",
   "execution_count": 57,
   "metadata": {
    "id": "92yZzkCYwTnG"
   },
   "outputs": [],
   "source": [
    "dead20 = deadT_20[deadT_20.Country.isin(covid19C20.Country)]\n",
    "dead21 = deadT_21[deadT_21.Country.isin(covid19C21.Country)]\n",
    "dead22 = deadT_22[deadT_22.Country.isin(covid19C22.Country)]"
   ]
  },
  {
   "cell_type": "markdown",
   "metadata": {
    "id": "ZgTKaOuUXTtG"
   },
   "source": [
    "Barplot para la cantidad de pacientes fallecidos por año de los 10 primeros paises en tasa de contagio."
   ]
  },
  {
   "cell_type": "code",
   "execution_count": 58,
   "metadata": {
    "colab": {
     "base_uri": "https://localhost:8080/",
     "height": 314
    },
    "executionInfo": {
     "elapsed": 10,
     "status": "ok",
     "timestamp": 1643509942743,
     "user": {
      "displayName": "Lilian Suárez",
      "photoUrl": "https://lh3.googleusercontent.com/a-/AOh14GhmJwa8s4iz-3TR_0hi6Rb0mkeSHxQ3MHbHYcrDWw=s64",
      "userId": "13345180962142135796"
     },
     "user_tz": 300
    },
    "id": "L62byDM6xnsK",
    "outputId": "319110b0-d7a4-433b-8b45-b9f0c1e6980a"
   },
   "outputs": [
    {
     "data": {
      "image/png": "[encoded data removed]",
      "text/plain": [
       "<Figure size 432x288 with 1 Axes>"
      ]
     },
     "metadata": {
      "needs_background": "light"
     },
     "output_type": "display_data"
    }
   ],
   "source": [
    "plt.barh(dead20.Country,dead20.Fallecidos)\n",
    "plt.ylabel('Cantidad de fallecidos')\n",
    "plt.title('Fallecidos 2020')\n",
    "plt.show()"
   ]
  },
  {
   "cell_type": "code",
   "execution_count": 59,
   "metadata": {
    "colab": {
     "base_uri": "https://localhost:8080/",
     "height": 314
    },
    "executionInfo": {
     "elapsed": 9,
     "status": "ok",
     "timestamp": 1643509942743,
     "user": {
      "displayName": "Lilian Suárez",
      "photoUrl": "https://lh3.googleusercontent.com/a-/AOh14GhmJwa8s4iz-3TR_0hi6Rb0mkeSHxQ3MHbHYcrDWw=s64",
      "userId": "13345180962142135796"
     },
     "user_tz": 300
    },
    "id": "uy04icimxzdT",
    "outputId": "37c81dae-e270-46bc-e3ba-9b0ffcee3585"
   },
   "outputs": [
    {
     "data": {
      "image/png": "[encoded data removed]",
      "text/plain": [
       "<Figure size 432x288 with 1 Axes>"
      ]
     },
     "metadata": {
      "needs_background": "light"
     },
     "output_type": "display_data"
    }
   ],
   "source": [
    "plt.barh(dead21.Country,dead21.Fallecidos)\n",
    "plt.ylabel('Cantidad de fallecidos')\n",
    "plt.title('Fallecidos 2021')\n",
    "plt.show()"
   ]
  },
  {
   "cell_type": "code",
   "execution_count": 60,
   "metadata": {
    "colab": {
     "base_uri": "https://localhost:8080/",
     "height": 314
    },
    "executionInfo": {
     "elapsed": 631,
     "status": "ok",
     "timestamp": 1643509943366,
     "user": {
      "displayName": "Lilian Suárez",
      "photoUrl": "https://lh3.googleusercontent.com/a-/AOh14GhmJwa8s4iz-3TR_0hi6Rb0mkeSHxQ3MHbHYcrDWw=s64",
      "userId": "13345180962142135796"
     },
     "user_tz": 300
    },
    "id": "eLRnDV7jx3ZH",
    "outputId": "cc69ea45-fc8a-4aa5-a468-cbbe71a1fc21"
   },
   "outputs": [
    {
     "data": {
      "image/png": "[encoded data removed]",
      "text/plain": [
       "<Figure size 432x288 with 1 Axes>"
      ]
     },
     "metadata": {
      "needs_background": "light"
     },
     "output_type": "display_data"
    }
   ],
   "source": [
    "plt.barh(dead22.Country,dead22.Fallecidos)\n",
    "plt.ylabel('Cantidad de fallecidos')\n",
    "plt.title('Fallecidos 2022')\n",
    "plt.show()"
   ]
  },
  {
   "cell_type": "markdown",
   "metadata": {
    "id": "pdnVOiyz6tdl"
   },
   "source": [
    "\n",
    "**8.** Realice un diagrama de caja (boxplot) con las cifras de los tres años para Colombia, para pacientes recuperados y muertos. ¿Cuál es su interpretación a lo visualizado en el gráfico?"
   ]
  },
  {
   "cell_type": "markdown",
   "metadata": {
    "id": "5fuCLa6KW8Rx"
   },
   "source": [
    "Se filtro la información para Colombia para cada año.\n"
   ]
  },
  {
   "cell_type": "code",
   "execution_count": 61,
   "metadata": {
    "colab": {
     "base_uri": "https://localhost:8080/",
     "height": 202
    },
    "executionInfo": {
     "elapsed": 18,
     "status": "ok",
     "timestamp": 1643509943369,
     "user": {
      "displayName": "Lilian Suárez",
      "photoUrl": "https://lh3.googleusercontent.com/a-/AOh14GhmJwa8s4iz-3TR_0hi6Rb0mkeSHxQ3MHbHYcrDWw=s64",
      "userId": "13345180962142135796"
     },
     "user_tz": 300
    },
    "id": "88cRrBa2Hmwi",
    "outputId": "fbee219d-265e-4477-82b3-1365f219409c"
   },
   "outputs": [
    {
     "data": {
      "text/html": [
       "<div>\n",
       "<style scoped>\n",
       "    .dataframe tbody tr th:only-of-type {\n",
       "        vertical-align: middle;\n",
       "    }\n",
       "\n",
       "    .dataframe tbody tr th {\n",
       "        vertical-align: top;\n",
       "    }\n",
       "\n",
       "    .dataframe thead th {\n",
       "        text-align: right;\n",
       "    }\n",
       "</style>\n",
       "<table border=\"1\" class=\"dataframe\">\n",
       "  <thead>\n",
       "    <tr style=\"text-align: right;\">\n",
       "      <th></th>\n",
       "      <th>D</th>\n",
       "      <th>R</th>\n",
       "    </tr>\n",
       "  </thead>\n",
       "  <tbody>\n",
       "    <tr>\n",
       "      <th>01/22/20</th>\n",
       "      <td>0</td>\n",
       "      <td>0</td>\n",
       "    </tr>\n",
       "    <tr>\n",
       "      <th>01/23/20</th>\n",
       "      <td>0</td>\n",
       "      <td>0</td>\n",
       "    </tr>\n",
       "    <tr>\n",
       "      <th>01/24/20</th>\n",
       "      <td>0</td>\n",
       "      <td>0</td>\n",
       "    </tr>\n",
       "    <tr>\n",
       "      <th>01/25/20</th>\n",
       "      <td>0</td>\n",
       "      <td>0</td>\n",
       "    </tr>\n",
       "    <tr>\n",
       "      <th>01/26/20</th>\n",
       "      <td>0</td>\n",
       "      <td>0</td>\n",
       "    </tr>\n",
       "    <tr>\n",
       "      <th>...</th>\n",
       "      <td>...</td>\n",
       "      <td>...</td>\n",
       "    </tr>\n",
       "    <tr>\n",
       "      <th>12/27/20</th>\n",
       "      <td>42171</td>\n",
       "      <td>1455975</td>\n",
       "    </tr>\n",
       "    <tr>\n",
       "      <th>12/28/20</th>\n",
       "      <td>42374</td>\n",
       "      <td>1469041</td>\n",
       "    </tr>\n",
       "    <tr>\n",
       "      <th>12/29/20</th>\n",
       "      <td>42620</td>\n",
       "      <td>1483017</td>\n",
       "    </tr>\n",
       "    <tr>\n",
       "      <th>12/30/20</th>\n",
       "      <td>42909</td>\n",
       "      <td>1497180</td>\n",
       "    </tr>\n",
       "    <tr>\n",
       "      <th>12/31/20</th>\n",
       "      <td>43213</td>\n",
       "      <td>1508419</td>\n",
       "    </tr>\n",
       "  </tbody>\n",
       "</table>\n",
       "<p>345 rows × 2 columns</p>\n",
       "</div>"
      ],
      "text/plain": [
       "              D        R\n",
       "01/22/20      0        0\n",
       "01/23/20      0        0\n",
       "01/24/20      0        0\n",
       "01/25/20      0        0\n",
       "01/26/20      0        0\n",
       "...         ...      ...\n",
       "12/27/20  42171  1455975\n",
       "12/28/20  42374  1469041\n",
       "12/29/20  42620  1483017\n",
       "12/30/20  42909  1497180\n",
       "12/31/20  43213  1508419\n",
       "\n",
       "[345 rows x 2 columns]"
      ]
     },
     "execution_count": 61,
     "metadata": {},
     "output_type": "execute_result"
    }
   ],
   "source": [
    "covid19_Colombia20 = covid19_20[covid19_20.Country == 'Colombia'].drop(columns = ['Country','status']).T\n",
    "covid19_Colombia20.columns = ['D','R']\n",
    "covid19_Colombia20"
   ]
  },
  {
   "cell_type": "code",
   "execution_count": 62,
   "metadata": {
    "colab": {
     "base_uri": "https://localhost:8080/",
     "height": 202
    },
    "executionInfo": {
     "elapsed": 16,
     "status": "ok",
     "timestamp": 1643509943370,
     "user": {
      "displayName": "Lilian Suárez",
      "photoUrl": "https://lh3.googleusercontent.com/a-/AOh14GhmJwa8s4iz-3TR_0hi6Rb0mkeSHxQ3MHbHYcrDWw=s64",
      "userId": "13345180962142135796"
     },
     "user_tz": 300
    },
    "id": "ZxjXh0AKgKtr",
    "outputId": "99cc7f1b-2285-4df7-893e-55962c9b0e58"
   },
   "outputs": [
    {
     "data": {
      "text/html": [
       "<div>\n",
       "<style scoped>\n",
       "    .dataframe tbody tr th:only-of-type {\n",
       "        vertical-align: middle;\n",
       "    }\n",
       "\n",
       "    .dataframe tbody tr th {\n",
       "        vertical-align: top;\n",
       "    }\n",
       "\n",
       "    .dataframe thead th {\n",
       "        text-align: right;\n",
       "    }\n",
       "</style>\n",
       "<table border=\"1\" class=\"dataframe\">\n",
       "  <thead>\n",
       "    <tr style=\"text-align: right;\">\n",
       "      <th></th>\n",
       "      <th>D</th>\n",
       "      <th>R</th>\n",
       "    </tr>\n",
       "  </thead>\n",
       "  <tbody>\n",
       "    <tr>\n",
       "      <th>01/01/21</th>\n",
       "      <td>43495</td>\n",
       "      <td>1520548</td>\n",
       "    </tr>\n",
       "    <tr>\n",
       "      <th>01/02/21</th>\n",
       "      <td>43765</td>\n",
       "      <td>1530973</td>\n",
       "    </tr>\n",
       "    <tr>\n",
       "      <th>01/03/21</th>\n",
       "      <td>43965</td>\n",
       "      <td>1542353</td>\n",
       "    </tr>\n",
       "    <tr>\n",
       "      <th>01/04/21</th>\n",
       "      <td>44187</td>\n",
       "      <td>1552179</td>\n",
       "    </tr>\n",
       "    <tr>\n",
       "      <th>01/05/21</th>\n",
       "      <td>44428</td>\n",
       "      <td>1559010</td>\n",
       "    </tr>\n",
       "    <tr>\n",
       "      <th>...</th>\n",
       "      <td>...</td>\n",
       "      <td>...</td>\n",
       "    </tr>\n",
       "    <tr>\n",
       "      <th>12/27/21</th>\n",
       "      <td>129798</td>\n",
       "      <td>0</td>\n",
       "    </tr>\n",
       "    <tr>\n",
       "      <th>12/28/21</th>\n",
       "      <td>129833</td>\n",
       "      <td>0</td>\n",
       "    </tr>\n",
       "    <tr>\n",
       "      <th>12/29/21</th>\n",
       "      <td>129866</td>\n",
       "      <td>0</td>\n",
       "    </tr>\n",
       "    <tr>\n",
       "      <th>12/30/21</th>\n",
       "      <td>129901</td>\n",
       "      <td>0</td>\n",
       "    </tr>\n",
       "    <tr>\n",
       "      <th>12/31/21</th>\n",
       "      <td>129942</td>\n",
       "      <td>0</td>\n",
       "    </tr>\n",
       "  </tbody>\n",
       "</table>\n",
       "<p>365 rows × 2 columns</p>\n",
       "</div>"
      ],
      "text/plain": [
       "               D        R\n",
       "01/01/21   43495  1520548\n",
       "01/02/21   43765  1530973\n",
       "01/03/21   43965  1542353\n",
       "01/04/21   44187  1552179\n",
       "01/05/21   44428  1559010\n",
       "...          ...      ...\n",
       "12/27/21  129798        0\n",
       "12/28/21  129833        0\n",
       "12/29/21  129866        0\n",
       "12/30/21  129901        0\n",
       "12/31/21  129942        0\n",
       "\n",
       "[365 rows x 2 columns]"
      ]
     },
     "execution_count": 62,
     "metadata": {},
     "output_type": "execute_result"
    }
   ],
   "source": [
    "covid19_Colombia21 = covid19_21[covid19_21.Country == 'Colombia'].drop(columns = ['Country','status']).T\n",
    "covid19_Colombia21.columns = ['D','R']\n",
    "covid19_Colombia21"
   ]
  },
  {
   "cell_type": "code",
   "execution_count": 63,
   "metadata": {
    "colab": {
     "base_uri": "https://localhost:8080/",
     "height": 173
    },
    "executionInfo": {
     "elapsed": 16,
     "status": "ok",
     "timestamp": 1643509943371,
     "user": {
      "displayName": "Lilian Suárez",
      "photoUrl": "https://lh3.googleusercontent.com/a-/AOh14GhmJwa8s4iz-3TR_0hi6Rb0mkeSHxQ3MHbHYcrDWw=s64",
      "userId": "13345180962142135796"
     },
     "user_tz": 300
    },
    "id": "XDestwuqgGQM",
    "outputId": "397adefc-6fbb-478b-83f3-e71b365f35c3"
   },
   "outputs": [
    {
     "data": {
      "text/html": [
       "<div>\n",
       "<style scoped>\n",
       "    .dataframe tbody tr th:only-of-type {\n",
       "        vertical-align: middle;\n",
       "    }\n",
       "\n",
       "    .dataframe tbody tr th {\n",
       "        vertical-align: top;\n",
       "    }\n",
       "\n",
       "    .dataframe thead th {\n",
       "        text-align: right;\n",
       "    }\n",
       "</style>\n",
       "<table border=\"1\" class=\"dataframe\">\n",
       "  <thead>\n",
       "    <tr style=\"text-align: right;\">\n",
       "      <th></th>\n",
       "      <th>D</th>\n",
       "      <th>R</th>\n",
       "    </tr>\n",
       "  </thead>\n",
       "  <tbody>\n",
       "    <tr>\n",
       "      <th>01/01/22</th>\n",
       "      <td>129986</td>\n",
       "      <td>0</td>\n",
       "    </tr>\n",
       "    <tr>\n",
       "      <th>01/02/22</th>\n",
       "      <td>130026</td>\n",
       "      <td>0</td>\n",
       "    </tr>\n",
       "    <tr>\n",
       "      <th>01/03/22</th>\n",
       "      <td>130061</td>\n",
       "      <td>0</td>\n",
       "    </tr>\n",
       "    <tr>\n",
       "      <th>01/04/22</th>\n",
       "      <td>130100</td>\n",
       "      <td>0</td>\n",
       "    </tr>\n",
       "    <tr>\n",
       "      <th>01/05/22</th>\n",
       "      <td>130140</td>\n",
       "      <td>0</td>\n",
       "    </tr>\n",
       "    <tr>\n",
       "      <th>01/06/22</th>\n",
       "      <td>130191</td>\n",
       "      <td>0</td>\n",
       "    </tr>\n",
       "    <tr>\n",
       "      <th>01/07/22</th>\n",
       "      <td>130250</td>\n",
       "      <td>0</td>\n",
       "    </tr>\n",
       "    <tr>\n",
       "      <th>01/08/22</th>\n",
       "      <td>130288</td>\n",
       "      <td>0</td>\n",
       "    </tr>\n",
       "    <tr>\n",
       "      <th>01/09/22</th>\n",
       "      <td>130338</td>\n",
       "      <td>0</td>\n",
       "    </tr>\n",
       "    <tr>\n",
       "      <th>01/10/22</th>\n",
       "      <td>130395</td>\n",
       "      <td>0</td>\n",
       "    </tr>\n",
       "    <tr>\n",
       "      <th>01/11/22</th>\n",
       "      <td>130460</td>\n",
       "      <td>0</td>\n",
       "    </tr>\n",
       "    <tr>\n",
       "      <th>01/12/22</th>\n",
       "      <td>130529</td>\n",
       "      <td>0</td>\n",
       "    </tr>\n",
       "    <tr>\n",
       "      <th>01/13/22</th>\n",
       "      <td>130625</td>\n",
       "      <td>0</td>\n",
       "    </tr>\n",
       "    <tr>\n",
       "      <th>01/14/22</th>\n",
       "      <td>130731</td>\n",
       "      <td>0</td>\n",
       "    </tr>\n",
       "    <tr>\n",
       "      <th>01/15/22</th>\n",
       "      <td>130860</td>\n",
       "      <td>0</td>\n",
       "    </tr>\n",
       "    <tr>\n",
       "      <th>01/16/22</th>\n",
       "      <td>130996</td>\n",
       "      <td>0</td>\n",
       "    </tr>\n",
       "    <tr>\n",
       "      <th>01/17/22</th>\n",
       "      <td>131130</td>\n",
       "      <td>0</td>\n",
       "    </tr>\n",
       "    <tr>\n",
       "      <th>01/18/22</th>\n",
       "      <td>131268</td>\n",
       "      <td>0</td>\n",
       "    </tr>\n",
       "  </tbody>\n",
       "</table>\n",
       "</div>"
      ],
      "text/plain": [
       "               D  R\n",
       "01/01/22  129986  0\n",
       "01/02/22  130026  0\n",
       "01/03/22  130061  0\n",
       "01/04/22  130100  0\n",
       "01/05/22  130140  0\n",
       "01/06/22  130191  0\n",
       "01/07/22  130250  0\n",
       "01/08/22  130288  0\n",
       "01/09/22  130338  0\n",
       "01/10/22  130395  0\n",
       "01/11/22  130460  0\n",
       "01/12/22  130529  0\n",
       "01/13/22  130625  0\n",
       "01/14/22  130731  0\n",
       "01/15/22  130860  0\n",
       "01/16/22  130996  0\n",
       "01/17/22  131130  0\n",
       "01/18/22  131268  0"
      ]
     },
     "execution_count": 63,
     "metadata": {},
     "output_type": "execute_result"
    }
   ],
   "source": [
    "covid19_Colombia22 = covid19_22[covid19_22.Country == 'Colombia'].drop(columns = ['Country','status']).T\n",
    "covid19_Colombia22.columns = ['D','R']\n",
    "covid19_Colombia22"
   ]
  },
  {
   "cell_type": "markdown",
   "metadata": {
    "id": "5ITdRK89XOQ7"
   },
   "source": [
    "Se gráfico los boxplot pedidos."
   ]
  },
  {
   "cell_type": "code",
   "execution_count": 64,
   "metadata": {
    "colab": {
     "base_uri": "https://localhost:8080/",
     "height": 301
    },
    "executionInfo": {
     "elapsed": 15,
     "status": "ok",
     "timestamp": 1643509943372,
     "user": {
      "displayName": "Lilian Suárez",
      "photoUrl": "https://lh3.googleusercontent.com/a-/AOh14GhmJwa8s4iz-3TR_0hi6Rb0mkeSHxQ3MHbHYcrDWw=s64",
      "userId": "13345180962142135796"
     },
     "user_tz": 300
    },
    "id": "-11f92alPZ-8",
    "outputId": "31ee7eeb-c40b-4dd4-a448-64f65dc7f7eb"
   },
   "outputs": [
    {
     "data": {
      "image/png": "[encoded data removed]",
      "text/plain": [
       "<Figure size 432x288 with 1 Axes>"
      ]
     },
     "metadata": {
      "needs_background": "light"
     },
     "output_type": "display_data"
    }
   ],
   "source": [
    "plt.boxplot(covid19_Colombia20)\n",
    "plt.title(\"Colombia 2020\")\n",
    "plt.show()"
   ]
  },
  {
   "cell_type": "markdown",
   "metadata": {
    "id": "cEqWH-YohTpO"
   },
   "source": [
    "**Interpretación:** \n",
    "\n",
    "\n",
    "*   La distribución de fallecidos y recuperados por Covid 19 están sesgadas positivamente, es decir, en ambos casos los valores se concentrar en la parte inferior.\n",
    "*   Los datos están menos dispersos para los fallecidos por Covid 19 que para los recuperados por Covid 19.\n",
    "*   La mediana de recuperados y fallecidos son cercanas. \n",
    "*   La mayoría de los sujetos recuperados en los días están entre 0 y 800.000, pero algunos días tienen recuperados que son tan altos como 1.500.000"
   ]
  },
  {
   "cell_type": "code",
   "execution_count": 65,
   "metadata": {
    "colab": {
     "base_uri": "https://localhost:8080/",
     "height": 301
    },
    "executionInfo": {
     "elapsed": 14,
     "status": "ok",
     "timestamp": 1643509943372,
     "user": {
      "displayName": "Lilian Suárez",
      "photoUrl": "https://lh3.googleusercontent.com/a-/AOh14GhmJwa8s4iz-3TR_0hi6Rb0mkeSHxQ3MHbHYcrDWw=s64",
      "userId": "13345180962142135796"
     },
     "user_tz": 300
    },
    "id": "zNWSwyKogVSk",
    "outputId": "d4c9c67d-7dcb-4726-c1a3-0117b19dd121"
   },
   "outputs": [
    {
     "data": {
      "image/png": "[encoded data removed]",
      "text/plain": [
       "<Figure size 432x288 with 1 Axes>"
      ]
     },
     "metadata": {
      "needs_background": "light"
     },
     "output_type": "display_data"
    }
   ],
   "source": [
    "plt.boxplot(covid19_Colombia21)\n",
    "plt.title(\"Colombia 2021\")\n",
    "plt.show()"
   ]
  },
  {
   "cell_type": "markdown",
   "metadata": {
    "id": "cXswutT1hU27"
   },
   "source": [
    "**Interpretación:** \n",
    "\n",
    "\n",
    "*   La distribución de fallecidos y recuperados por Covid 19 están sesgada negativamente, es decir, en ambos casos los valores se concentrar en la parte superior.\n",
    "*   Los datos están menos dispersos para los fallecidos por Covid 19 que para los recuperados por Covid 19.\n",
    "*   La mediana de recuperados y fallecidos son lejanas.\n",
    "*   La mayoría de los sujetos recuperados en los días están entre 0 y 2.800.000, pero algunos días tienen recuperados que son tan altos como 4.800.000"
   ]
  },
  {
   "cell_type": "code",
   "execution_count": 66,
   "metadata": {
    "colab": {
     "base_uri": "https://localhost:8080/",
     "height": 301
    },
    "executionInfo": {
     "elapsed": 867,
     "status": "ok",
     "timestamp": 1643509944226,
     "user": {
      "displayName": "Lilian Suárez",
      "photoUrl": "https://lh3.googleusercontent.com/a-/AOh14GhmJwa8s4iz-3TR_0hi6Rb0mkeSHxQ3MHbHYcrDWw=s64",
      "userId": "13345180962142135796"
     },
     "user_tz": 300
    },
    "id": "d2S5LP97TtYI",
    "outputId": "3e9ec4fb-e932-4705-e975-03be6dbe62d8"
   },
   "outputs": [
    {
     "data": {
      "image/png": "[encoded data removed]",
      "text/plain": [
       "<Figure size 432x288 with 1 Axes>"
      ]
     },
     "metadata": {
      "needs_background": "light"
     },
     "output_type": "display_data"
    }
   ],
   "source": [
    "plt.boxplot(covid19_Colombia22)\n",
    "plt.title(\"Colombia 2022\")\n",
    "plt.show()"
   ]
  },
  {
   "cell_type": "markdown",
   "metadata": {
    "id": "a8AW8uuccNXe"
   },
   "source": [
    "**Interpretación:** \n",
    "\n",
    "*   Los datos están menos dispersos para los fallecidos por Covid 19 que para los recuperados por Covid 19, porque no se han presentado casos de recuperación en el 2022."
   ]
  },
  {
   "cell_type": "markdown",
   "metadata": {
    "id": "dNqvLN-p3aV_"
   },
   "source": [
    "\n",
    "**9.** Para cada una de las variables muestre el consolidado de la siguiente información: valor mínimo, primer cuartil, promedio, tercer cuartil y valor máximo. Recuerde se requiere para cada variable numérica."
   ]
  },
  {
   "cell_type": "code",
   "execution_count": 67,
   "metadata": {
    "id": "JJLY6Uty4FWb"
   },
   "outputs": [],
   "source": [
    "covid19_desc = covid19.drop(columns = ['Country','Continent'])"
   ]
  },
  {
   "cell_type": "code",
   "execution_count": 68,
   "metadata": {
    "id": "kkN2sVZdFFlA"
   },
   "outputs": [],
   "source": [
    "recovered = covid19_desc[covid19_desc.status =='R']"
   ]
  },
  {
   "cell_type": "code",
   "execution_count": 69,
   "metadata": {
    "id": "XDucfWpPFW-3"
   },
   "outputs": [],
   "source": [
    "dead = covid19_desc[covid19_desc.status =='D']"
   ]
  },
  {
   "cell_type": "code",
   "execution_count": 70,
   "metadata": {
    "colab": {
     "base_uri": "https://localhost:8080/",
     "height": 386
    },
    "executionInfo": {
     "elapsed": 1617,
     "status": "ok",
     "timestamp": 1643509945839,
     "user": {
      "displayName": "Lilian Suárez",
      "photoUrl": "https://lh3.googleusercontent.com/a-/AOh14GhmJwa8s4iz-3TR_0hi6Rb0mkeSHxQ3MHbHYcrDWw=s64",
      "userId": "13345180962142135796"
     },
     "user_tz": 300
    },
    "id": "l5fqOOC_3v-v",
    "outputId": "acd2a892-983b-4501-814c-a9f0d330e8f5"
   },
   "outputs": [
    {
     "data": {
      "text/html": [
       "<div>\n",
       "<style scoped>\n",
       "    .dataframe tbody tr th:only-of-type {\n",
       "        vertical-align: middle;\n",
       "    }\n",
       "\n",
       "    .dataframe tbody tr th {\n",
       "        vertical-align: top;\n",
       "    }\n",
       "\n",
       "    .dataframe thead th {\n",
       "        text-align: right;\n",
       "    }\n",
       "</style>\n",
       "<table border=\"1\" class=\"dataframe\">\n",
       "  <thead>\n",
       "    <tr style=\"text-align: right;\">\n",
       "      <th></th>\n",
       "      <th>01/22/20</th>\n",
       "      <th>01/23/20</th>\n",
       "      <th>01/24/20</th>\n",
       "      <th>01/25/20</th>\n",
       "      <th>01/26/20</th>\n",
       "      <th>01/27/20</th>\n",
       "      <th>01/28/20</th>\n",
       "      <th>01/29/20</th>\n",
       "      <th>01/30/20</th>\n",
       "      <th>01/31/20</th>\n",
       "      <th>...</th>\n",
       "      <th>01/09/22</th>\n",
       "      <th>01/10/22</th>\n",
       "      <th>01/11/22</th>\n",
       "      <th>01/12/22</th>\n",
       "      <th>01/13/22</th>\n",
       "      <th>01/14/22</th>\n",
       "      <th>01/15/22</th>\n",
       "      <th>01/16/22</th>\n",
       "      <th>01/17/22</th>\n",
       "      <th>01/18/22</th>\n",
       "    </tr>\n",
       "  </thead>\n",
       "  <tbody>\n",
       "    <tr>\n",
       "      <th>count</th>\n",
       "      <td>193.000000</td>\n",
       "      <td>193.000000</td>\n",
       "      <td>193.000000</td>\n",
       "      <td>193.000000</td>\n",
       "      <td>193.000000</td>\n",
       "      <td>193.000000</td>\n",
       "      <td>193.000000</td>\n",
       "      <td>193.000000</td>\n",
       "      <td>193.000000</td>\n",
       "      <td>193.000000</td>\n",
       "      <td>...</td>\n",
       "      <td>193.0</td>\n",
       "      <td>193.0</td>\n",
       "      <td>193.0</td>\n",
       "      <td>193.0</td>\n",
       "      <td>193.0</td>\n",
       "      <td>193.0</td>\n",
       "      <td>193.0</td>\n",
       "      <td>193.0</td>\n",
       "      <td>193.0</td>\n",
       "      <td>193.0</td>\n",
       "    </tr>\n",
       "    <tr>\n",
       "      <th>mean</th>\n",
       "      <td>0.155440</td>\n",
       "      <td>0.165803</td>\n",
       "      <td>0.202073</td>\n",
       "      <td>0.217617</td>\n",
       "      <td>0.290155</td>\n",
       "      <td>0.336788</td>\n",
       "      <td>0.559585</td>\n",
       "      <td>0.658031</td>\n",
       "      <td>0.751295</td>\n",
       "      <td>1.165803</td>\n",
       "      <td>...</td>\n",
       "      <td>0.0</td>\n",
       "      <td>0.0</td>\n",
       "      <td>0.0</td>\n",
       "      <td>0.0</td>\n",
       "      <td>0.0</td>\n",
       "      <td>0.0</td>\n",
       "      <td>0.0</td>\n",
       "      <td>0.0</td>\n",
       "      <td>0.0</td>\n",
       "      <td>0.0</td>\n",
       "    </tr>\n",
       "    <tr>\n",
       "      <th>std</th>\n",
       "      <td>2.019871</td>\n",
       "      <td>2.163492</td>\n",
       "      <td>2.599198</td>\n",
       "      <td>2.814453</td>\n",
       "      <td>3.551519</td>\n",
       "      <td>4.195179</td>\n",
       "      <td>7.280670</td>\n",
       "      <td>8.646239</td>\n",
       "      <td>9.728090</td>\n",
       "      <td>15.411490</td>\n",
       "      <td>...</td>\n",
       "      <td>0.0</td>\n",
       "      <td>0.0</td>\n",
       "      <td>0.0</td>\n",
       "      <td>0.0</td>\n",
       "      <td>0.0</td>\n",
       "      <td>0.0</td>\n",
       "      <td>0.0</td>\n",
       "      <td>0.0</td>\n",
       "      <td>0.0</td>\n",
       "      <td>0.0</td>\n",
       "    </tr>\n",
       "    <tr>\n",
       "      <th>min</th>\n",
       "      <td>0.000000</td>\n",
       "      <td>0.000000</td>\n",
       "      <td>0.000000</td>\n",
       "      <td>0.000000</td>\n",
       "      <td>0.000000</td>\n",
       "      <td>0.000000</td>\n",
       "      <td>0.000000</td>\n",
       "      <td>0.000000</td>\n",
       "      <td>0.000000</td>\n",
       "      <td>0.000000</td>\n",
       "      <td>...</td>\n",
       "      <td>0.0</td>\n",
       "      <td>0.0</td>\n",
       "      <td>0.0</td>\n",
       "      <td>0.0</td>\n",
       "      <td>0.0</td>\n",
       "      <td>0.0</td>\n",
       "      <td>0.0</td>\n",
       "      <td>0.0</td>\n",
       "      <td>0.0</td>\n",
       "      <td>0.0</td>\n",
       "    </tr>\n",
       "    <tr>\n",
       "      <th>25%</th>\n",
       "      <td>0.000000</td>\n",
       "      <td>0.000000</td>\n",
       "      <td>0.000000</td>\n",
       "      <td>0.000000</td>\n",
       "      <td>0.000000</td>\n",
       "      <td>0.000000</td>\n",
       "      <td>0.000000</td>\n",
       "      <td>0.000000</td>\n",
       "      <td>0.000000</td>\n",
       "      <td>0.000000</td>\n",
       "      <td>...</td>\n",
       "      <td>0.0</td>\n",
       "      <td>0.0</td>\n",
       "      <td>0.0</td>\n",
       "      <td>0.0</td>\n",
       "      <td>0.0</td>\n",
       "      <td>0.0</td>\n",
       "      <td>0.0</td>\n",
       "      <td>0.0</td>\n",
       "      <td>0.0</td>\n",
       "      <td>0.0</td>\n",
       "    </tr>\n",
       "    <tr>\n",
       "      <th>50%</th>\n",
       "      <td>0.000000</td>\n",
       "      <td>0.000000</td>\n",
       "      <td>0.000000</td>\n",
       "      <td>0.000000</td>\n",
       "      <td>0.000000</td>\n",
       "      <td>0.000000</td>\n",
       "      <td>0.000000</td>\n",
       "      <td>0.000000</td>\n",
       "      <td>0.000000</td>\n",
       "      <td>0.000000</td>\n",
       "      <td>...</td>\n",
       "      <td>0.0</td>\n",
       "      <td>0.0</td>\n",
       "      <td>0.0</td>\n",
       "      <td>0.0</td>\n",
       "      <td>0.0</td>\n",
       "      <td>0.0</td>\n",
       "      <td>0.0</td>\n",
       "      <td>0.0</td>\n",
       "      <td>0.0</td>\n",
       "      <td>0.0</td>\n",
       "    </tr>\n",
       "    <tr>\n",
       "      <th>75%</th>\n",
       "      <td>0.000000</td>\n",
       "      <td>0.000000</td>\n",
       "      <td>0.000000</td>\n",
       "      <td>0.000000</td>\n",
       "      <td>0.000000</td>\n",
       "      <td>0.000000</td>\n",
       "      <td>0.000000</td>\n",
       "      <td>0.000000</td>\n",
       "      <td>0.000000</td>\n",
       "      <td>0.000000</td>\n",
       "      <td>...</td>\n",
       "      <td>0.0</td>\n",
       "      <td>0.0</td>\n",
       "      <td>0.0</td>\n",
       "      <td>0.0</td>\n",
       "      <td>0.0</td>\n",
       "      <td>0.0</td>\n",
       "      <td>0.0</td>\n",
       "      <td>0.0</td>\n",
       "      <td>0.0</td>\n",
       "      <td>0.0</td>\n",
       "    </tr>\n",
       "    <tr>\n",
       "      <th>max</th>\n",
       "      <td>28.000000</td>\n",
       "      <td>30.000000</td>\n",
       "      <td>36.000000</td>\n",
       "      <td>39.000000</td>\n",
       "      <td>49.000000</td>\n",
       "      <td>58.000000</td>\n",
       "      <td>101.000000</td>\n",
       "      <td>120.000000</td>\n",
       "      <td>135.000000</td>\n",
       "      <td>214.000000</td>\n",
       "      <td>...</td>\n",
       "      <td>0.0</td>\n",
       "      <td>0.0</td>\n",
       "      <td>0.0</td>\n",
       "      <td>0.0</td>\n",
       "      <td>0.0</td>\n",
       "      <td>0.0</td>\n",
       "      <td>0.0</td>\n",
       "      <td>0.0</td>\n",
       "      <td>0.0</td>\n",
       "      <td>0.0</td>\n",
       "    </tr>\n",
       "  </tbody>\n",
       "</table>\n",
       "<p>8 rows × 728 columns</p>\n",
       "</div>"
      ],
      "text/plain": [
       "         01/22/20    01/23/20    01/24/20    01/25/20    01/26/20    01/27/20  \\\n",
       "count  193.000000  193.000000  193.000000  193.000000  193.000000  193.000000   \n",
       "mean     0.155440    0.165803    0.202073    0.217617    0.290155    0.336788   \n",
       "std      2.019871    2.163492    2.599198    2.814453    3.551519    4.195179   \n",
       "min      0.000000    0.000000    0.000000    0.000000    0.000000    0.000000   \n",
       "25%      0.000000    0.000000    0.000000    0.000000    0.000000    0.000000   \n",
       "50%      0.000000    0.000000    0.000000    0.000000    0.000000    0.000000   \n",
       "75%      0.000000    0.000000    0.000000    0.000000    0.000000    0.000000   \n",
       "max     28.000000   30.000000   36.000000   39.000000   49.000000   58.000000   \n",
       "\n",
       "         01/28/20    01/29/20    01/30/20    01/31/20  ...  01/09/22  \\\n",
       "count  193.000000  193.000000  193.000000  193.000000  ...     193.0   \n",
       "mean     0.559585    0.658031    0.751295    1.165803  ...       0.0   \n",
       "std      7.280670    8.646239    9.728090   15.411490  ...       0.0   \n",
       "min      0.000000    0.000000    0.000000    0.000000  ...       0.0   \n",
       "25%      0.000000    0.000000    0.000000    0.000000  ...       0.0   \n",
       "50%      0.000000    0.000000    0.000000    0.000000  ...       0.0   \n",
       "75%      0.000000    0.000000    0.000000    0.000000  ...       0.0   \n",
       "max    101.000000  120.000000  135.000000  214.000000  ...       0.0   \n",
       "\n",
       "       01/10/22  01/11/22  01/12/22  01/13/22  01/14/22  01/15/22  01/16/22  \\\n",
       "count     193.0     193.0     193.0     193.0     193.0     193.0     193.0   \n",
       "mean        0.0       0.0       0.0       0.0       0.0       0.0       0.0   \n",
       "std         0.0       0.0       0.0       0.0       0.0       0.0       0.0   \n",
       "min         0.0       0.0       0.0       0.0       0.0       0.0       0.0   \n",
       "25%         0.0       0.0       0.0       0.0       0.0       0.0       0.0   \n",
       "50%         0.0       0.0       0.0       0.0       0.0       0.0       0.0   \n",
       "75%         0.0       0.0       0.0       0.0       0.0       0.0       0.0   \n",
       "max         0.0       0.0       0.0       0.0       0.0       0.0       0.0   \n",
       "\n",
       "       01/17/22  01/18/22  \n",
       "count     193.0     193.0  \n",
       "mean        0.0       0.0  \n",
       "std         0.0       0.0  \n",
       "min         0.0       0.0  \n",
       "25%         0.0       0.0  \n",
       "50%         0.0       0.0  \n",
       "75%         0.0       0.0  \n",
       "max         0.0       0.0  \n",
       "\n",
       "[8 rows x 728 columns]"
      ]
     },
     "execution_count": 70,
     "metadata": {},
     "output_type": "execute_result"
    }
   ],
   "source": [
    "recovered.describe() "
   ]
  },
  {
   "cell_type": "code",
   "execution_count": 71,
   "metadata": {
    "colab": {
     "base_uri": "https://localhost:8080/",
     "height": 386
    },
    "executionInfo": {
     "elapsed": 1493,
     "status": "ok",
     "timestamp": 1643509947328,
     "user": {
      "displayName": "Lilian Suárez",
      "photoUrl": "https://lh3.googleusercontent.com/a-/AOh14GhmJwa8s4iz-3TR_0hi6Rb0mkeSHxQ3MHbHYcrDWw=s64",
      "userId": "13345180962142135796"
     },
     "user_tz": 300
    },
    "id": "DA3NxFlAFgaH",
    "outputId": "fb878fa0-3067-413e-8612-6b6d716488b2"
   },
   "outputs": [
    {
     "data": {
      "text/html": [
       "<div>\n",
       "<style scoped>\n",
       "    .dataframe tbody tr th:only-of-type {\n",
       "        vertical-align: middle;\n",
       "    }\n",
       "\n",
       "    .dataframe tbody tr th {\n",
       "        vertical-align: top;\n",
       "    }\n",
       "\n",
       "    .dataframe thead th {\n",
       "        text-align: right;\n",
       "    }\n",
       "</style>\n",
       "<table border=\"1\" class=\"dataframe\">\n",
       "  <thead>\n",
       "    <tr style=\"text-align: right;\">\n",
       "      <th></th>\n",
       "      <th>01/22/20</th>\n",
       "      <th>01/23/20</th>\n",
       "      <th>01/24/20</th>\n",
       "      <th>01/25/20</th>\n",
       "      <th>01/26/20</th>\n",
       "      <th>01/27/20</th>\n",
       "      <th>01/28/20</th>\n",
       "      <th>01/29/20</th>\n",
       "      <th>01/30/20</th>\n",
       "      <th>01/31/20</th>\n",
       "      <th>...</th>\n",
       "      <th>01/09/22</th>\n",
       "      <th>01/10/22</th>\n",
       "      <th>01/11/22</th>\n",
       "      <th>01/12/22</th>\n",
       "      <th>01/13/22</th>\n",
       "      <th>01/14/22</th>\n",
       "      <th>01/15/22</th>\n",
       "      <th>01/16/22</th>\n",
       "      <th>01/17/22</th>\n",
       "      <th>01/18/22</th>\n",
       "    </tr>\n",
       "  </thead>\n",
       "  <tbody>\n",
       "    <tr>\n",
       "      <th>count</th>\n",
       "      <td>193.000000</td>\n",
       "      <td>193.000000</td>\n",
       "      <td>193.000000</td>\n",
       "      <td>193.000000</td>\n",
       "      <td>193.000000</td>\n",
       "      <td>193.000000</td>\n",
       "      <td>193.000000</td>\n",
       "      <td>193.000000</td>\n",
       "      <td>193.000000</td>\n",
       "      <td>193.000000</td>\n",
       "      <td>...</td>\n",
       "      <td>193.000000</td>\n",
       "      <td>193.000000</td>\n",
       "      <td>193.000000</td>\n",
       "      <td>193.000000</td>\n",
       "      <td>193.000000</td>\n",
       "      <td>193.000000</td>\n",
       "      <td>193.000000</td>\n",
       "      <td>193.000000</td>\n",
       "      <td>193.000000</td>\n",
       "      <td>193.000000</td>\n",
       "    </tr>\n",
       "    <tr>\n",
       "      <th>mean</th>\n",
       "      <td>0.088083</td>\n",
       "      <td>0.093264</td>\n",
       "      <td>0.134715</td>\n",
       "      <td>0.217617</td>\n",
       "      <td>0.290155</td>\n",
       "      <td>0.424870</td>\n",
       "      <td>0.678756</td>\n",
       "      <td>0.689119</td>\n",
       "      <td>0.886010</td>\n",
       "      <td>1.103627</td>\n",
       "      <td>...</td>\n",
       "      <td>28447.787565</td>\n",
       "      <td>28481.124352</td>\n",
       "      <td>28524.134715</td>\n",
       "      <td>28571.989637</td>\n",
       "      <td>28609.352332</td>\n",
       "      <td>28652.316062</td>\n",
       "      <td>28683.238342</td>\n",
       "      <td>28704.564767</td>\n",
       "      <td>28737.025907</td>\n",
       "      <td>28781.196891</td>\n",
       "    </tr>\n",
       "    <tr>\n",
       "      <th>std</th>\n",
       "      <td>1.223687</td>\n",
       "      <td>1.295668</td>\n",
       "      <td>1.871521</td>\n",
       "      <td>3.023226</td>\n",
       "      <td>4.030968</td>\n",
       "      <td>5.902489</td>\n",
       "      <td>9.429586</td>\n",
       "      <td>9.573549</td>\n",
       "      <td>12.308849</td>\n",
       "      <td>15.332075</td>\n",
       "      <td>...</td>\n",
       "      <td>91452.106906</td>\n",
       "      <td>91566.987359</td>\n",
       "      <td>91709.261108</td>\n",
       "      <td>91877.330134</td>\n",
       "      <td>92000.079335</td>\n",
       "      <td>92153.579710</td>\n",
       "      <td>92232.976628</td>\n",
       "      <td>92289.124961</td>\n",
       "      <td>92374.310766</td>\n",
       "      <td>92511.975495</td>\n",
       "    </tr>\n",
       "    <tr>\n",
       "      <th>min</th>\n",
       "      <td>0.000000</td>\n",
       "      <td>0.000000</td>\n",
       "      <td>0.000000</td>\n",
       "      <td>0.000000</td>\n",
       "      <td>0.000000</td>\n",
       "      <td>0.000000</td>\n",
       "      <td>0.000000</td>\n",
       "      <td>0.000000</td>\n",
       "      <td>0.000000</td>\n",
       "      <td>0.000000</td>\n",
       "      <td>...</td>\n",
       "      <td>0.000000</td>\n",
       "      <td>0.000000</td>\n",
       "      <td>0.000000</td>\n",
       "      <td>0.000000</td>\n",
       "      <td>0.000000</td>\n",
       "      <td>0.000000</td>\n",
       "      <td>0.000000</td>\n",
       "      <td>0.000000</td>\n",
       "      <td>0.000000</td>\n",
       "      <td>0.000000</td>\n",
       "    </tr>\n",
       "    <tr>\n",
       "      <th>25%</th>\n",
       "      <td>0.000000</td>\n",
       "      <td>0.000000</td>\n",
       "      <td>0.000000</td>\n",
       "      <td>0.000000</td>\n",
       "      <td>0.000000</td>\n",
       "      <td>0.000000</td>\n",
       "      <td>0.000000</td>\n",
       "      <td>0.000000</td>\n",
       "      <td>0.000000</td>\n",
       "      <td>0.000000</td>\n",
       "      <td>...</td>\n",
       "      <td>361.000000</td>\n",
       "      <td>364.000000</td>\n",
       "      <td>366.000000</td>\n",
       "      <td>368.000000</td>\n",
       "      <td>370.000000</td>\n",
       "      <td>370.000000</td>\n",
       "      <td>371.000000</td>\n",
       "      <td>371.000000</td>\n",
       "      <td>371.000000</td>\n",
       "      <td>371.000000</td>\n",
       "    </tr>\n",
       "    <tr>\n",
       "      <th>50%</th>\n",
       "      <td>0.000000</td>\n",
       "      <td>0.000000</td>\n",
       "      <td>0.000000</td>\n",
       "      <td>0.000000</td>\n",
       "      <td>0.000000</td>\n",
       "      <td>0.000000</td>\n",
       "      <td>0.000000</td>\n",
       "      <td>0.000000</td>\n",
       "      <td>0.000000</td>\n",
       "      <td>0.000000</td>\n",
       "      <td>...</td>\n",
       "      <td>2991.000000</td>\n",
       "      <td>2991.000000</td>\n",
       "      <td>2991.000000</td>\n",
       "      <td>2992.000000</td>\n",
       "      <td>2994.000000</td>\n",
       "      <td>2994.000000</td>\n",
       "      <td>2994.000000</td>\n",
       "      <td>2994.000000</td>\n",
       "      <td>2994.000000</td>\n",
       "      <td>2995.000000</td>\n",
       "    </tr>\n",
       "    <tr>\n",
       "      <th>75%</th>\n",
       "      <td>0.000000</td>\n",
       "      <td>0.000000</td>\n",
       "      <td>0.000000</td>\n",
       "      <td>0.000000</td>\n",
       "      <td>0.000000</td>\n",
       "      <td>0.000000</td>\n",
       "      <td>0.000000</td>\n",
       "      <td>0.000000</td>\n",
       "      <td>0.000000</td>\n",
       "      <td>0.000000</td>\n",
       "      <td>...</td>\n",
       "      <td>14911.000000</td>\n",
       "      <td>14915.000000</td>\n",
       "      <td>14927.000000</td>\n",
       "      <td>14935.000000</td>\n",
       "      <td>14945.000000</td>\n",
       "      <td>14954.000000</td>\n",
       "      <td>14963.000000</td>\n",
       "      <td>14976.000000</td>\n",
       "      <td>14994.000000</td>\n",
       "      <td>15012.000000</td>\n",
       "    </tr>\n",
       "    <tr>\n",
       "      <th>max</th>\n",
       "      <td>17.000000</td>\n",
       "      <td>18.000000</td>\n",
       "      <td>26.000000</td>\n",
       "      <td>42.000000</td>\n",
       "      <td>56.000000</td>\n",
       "      <td>82.000000</td>\n",
       "      <td>131.000000</td>\n",
       "      <td>133.000000</td>\n",
       "      <td>171.000000</td>\n",
       "      <td>213.000000</td>\n",
       "      <td>...</td>\n",
       "      <td>838768.000000</td>\n",
       "      <td>840627.000000</td>\n",
       "      <td>842924.000000</td>\n",
       "      <td>845392.000000</td>\n",
       "      <td>847273.000000</td>\n",
       "      <td>849580.000000</td>\n",
       "      <td>850383.000000</td>\n",
       "      <td>850931.000000</td>\n",
       "      <td>852062.000000</td>\n",
       "      <td>853958.000000</td>\n",
       "    </tr>\n",
       "  </tbody>\n",
       "</table>\n",
       "<p>8 rows × 728 columns</p>\n",
       "</div>"
      ],
      "text/plain": [
       "         01/22/20    01/23/20    01/24/20    01/25/20    01/26/20    01/27/20  \\\n",
       "count  193.000000  193.000000  193.000000  193.000000  193.000000  193.000000   \n",
       "mean     0.088083    0.093264    0.134715    0.217617    0.290155    0.424870   \n",
       "std      1.223687    1.295668    1.871521    3.023226    4.030968    5.902489   \n",
       "min      0.000000    0.000000    0.000000    0.000000    0.000000    0.000000   \n",
       "25%      0.000000    0.000000    0.000000    0.000000    0.000000    0.000000   \n",
       "50%      0.000000    0.000000    0.000000    0.000000    0.000000    0.000000   \n",
       "75%      0.000000    0.000000    0.000000    0.000000    0.000000    0.000000   \n",
       "max     17.000000   18.000000   26.000000   42.000000   56.000000   82.000000   \n",
       "\n",
       "         01/28/20    01/29/20    01/30/20    01/31/20  ...       01/09/22  \\\n",
       "count  193.000000  193.000000  193.000000  193.000000  ...     193.000000   \n",
       "mean     0.678756    0.689119    0.886010    1.103627  ...   28447.787565   \n",
       "std      9.429586    9.573549   12.308849   15.332075  ...   91452.106906   \n",
       "min      0.000000    0.000000    0.000000    0.000000  ...       0.000000   \n",
       "25%      0.000000    0.000000    0.000000    0.000000  ...     361.000000   \n",
       "50%      0.000000    0.000000    0.000000    0.000000  ...    2991.000000   \n",
       "75%      0.000000    0.000000    0.000000    0.000000  ...   14911.000000   \n",
       "max    131.000000  133.000000  171.000000  213.000000  ...  838768.000000   \n",
       "\n",
       "            01/10/22       01/11/22       01/12/22       01/13/22  \\\n",
       "count     193.000000     193.000000     193.000000     193.000000   \n",
       "mean    28481.124352   28524.134715   28571.989637   28609.352332   \n",
       "std     91566.987359   91709.261108   91877.330134   92000.079335   \n",
       "min         0.000000       0.000000       0.000000       0.000000   \n",
       "25%       364.000000     366.000000     368.000000     370.000000   \n",
       "50%      2991.000000    2991.000000    2992.000000    2994.000000   \n",
       "75%     14915.000000   14927.000000   14935.000000   14945.000000   \n",
       "max    840627.000000  842924.000000  845392.000000  847273.000000   \n",
       "\n",
       "            01/14/22       01/15/22       01/16/22       01/17/22  \\\n",
       "count     193.000000     193.000000     193.000000     193.000000   \n",
       "mean    28652.316062   28683.238342   28704.564767   28737.025907   \n",
       "std     92153.579710   92232.976628   92289.124961   92374.310766   \n",
       "min         0.000000       0.000000       0.000000       0.000000   \n",
       "25%       370.000000     371.000000     371.000000     371.000000   \n",
       "50%      2994.000000    2994.000000    2994.000000    2994.000000   \n",
       "75%     14954.000000   14963.000000   14976.000000   14994.000000   \n",
       "max    849580.000000  850383.000000  850931.000000  852062.000000   \n",
       "\n",
       "            01/18/22  \n",
       "count     193.000000  \n",
       "mean    28781.196891  \n",
       "std     92511.975495  \n",
       "min         0.000000  \n",
       "25%       371.000000  \n",
       "50%      2995.000000  \n",
       "75%     15012.000000  \n",
       "max    853958.000000  \n",
       "\n",
       "[8 rows x 728 columns]"
      ]
     },
     "execution_count": 71,
     "metadata": {},
     "output_type": "execute_result"
    }
   ],
   "source": [
    "dead.describe() "
   ]
  }
 ],
 "metadata": {
  "colab": {
   "authorship_tag": "ABX9TyNDYfstNoX6gk7q93hIJbUi",
   "collapsed_sections": [],
   "name": "LilianSuarezTask1.ipynb",
   "provenance": []
  },
  "kernelspec": {
   "display_name": "Python 3",
   "language": "python",
   "name": "python3"
  },
  "language_info": {
   "codemirror_mode": {
    "name": "ipython",
    "version": 3
   },
   "file_extension": ".py",
   "mimetype": "text/x-python",
   "name": "python",
   "nbconvert_exporter": "python",
   "pygments_lexer": "ipython3",
   "version": "3.8.8"
  }
 },
 "nbformat": 4,
 "nbformat_minor": 1
}
